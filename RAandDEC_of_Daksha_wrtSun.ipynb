{
 "cells": [
  {
   "cell_type": "code",
   "execution_count": 272,
   "metadata": {},
   "outputs": [
    {
     "name": "stdout",
     "output_type": "stream",
     "text": [
      "Using matplotlib backend: MacOSX\n",
      "220000 220000 220000\n"
     ]
    }
   ],
   "source": [
    "import scipy.io\n",
    "import numpy as np\n",
    "import scipy.optimize\n",
    "import datetime \n",
    "import ephem\n",
    "import random\n",
    "from scipy import spatial\n",
    "import matplotlib.pyplot as plt\n",
    "%matplotlib\n",
    "from astropy.table import Table\n",
    "import astropy.units as u\n",
    "import pandas as pd\n",
    "from matplotlib.backends.backend_pdf import PdfPages\n",
    "import astropy\n",
    "from astropy.time import Time\n",
    "from astropy.coordinates import EarthLocation\n",
    "import sunpy.coordinates\n",
    "from datetime import datetime, timezone\n",
    "from math import atan, atan2, degrees, floor, pi, radians, sin, sqrt\n",
    "from skyfield.api import earth, JulianDate, now, sun\n",
    "data=scipy.io.loadmat('BNS-sources-trial-10saleem.mat')['data'] \n",
    "#sourceparameters\n",
    "DL=data[:,0]\n",
    "theta=data[:,1]\n",
    "phi=data[:,2]\n",
    "print(len(DL),len(theta),len(phi))"
   ]
  },
  {
   "cell_type": "code",
   "execution_count": 13,
   "metadata": {},
   "outputs": [
    {
     "data": {
      "text/plain": [
       "(220000, 220000)"
      ]
     },
     "execution_count": 13,
     "metadata": {},
     "output_type": "execute_result"
    }
   ],
   "source": [
    "snrH=data[:,5]\n",
    "snrL=data[:,6]\n",
    "snrV=data[:,7]\n",
    "snrK=data[:,8]\n",
    "snrI=data[:,9]\n",
    "#or for networks of 5 and 3 detectors, one can use directly,\n",
    "snrLHVKI=np.sqrt(data[:,5]**2 + data[:,6]**2 + data[:,7]**2 +data[:,8]**2 + data[:,9]**2)  \n",
    "# SNR at LHVKI\n",
    "snrLHV=np.sqrt(data[:,5]**2 + data[:,6]**2 + data[:,7]**2 )  # LHV*\n",
    "snrLHVK = np.sqrt(data[:,5]**2 + data[:,6]**2 + data[:,7]**2 + data[:,8]**2)\n",
    "snrLHVI = np.sqrt(data[:,5]**2 + data[:,6]**2 + data[:,7]**2 + data[:,9]**2)\n",
    "len(snrLHVKI),len(snrLHVK)"
   ]
  },
  {
   "cell_type": "code",
   "execution_count": 14,
   "metadata": {},
   "outputs": [
    {
     "name": "stdout",
     "output_type": "stream",
     "text": [
      "CPU times: user 161 ms, sys: 28.6 ms, total: 189 ms\n",
      "Wall time: 185 ms\n"
     ]
    },
    {
     "name": "stderr",
     "output_type": "stream",
     "text": [
      "WARNING: ErfaWarning: ERFA function \"dtf2d\" yielded 1 of \"dubious year (Note 6)\" [astropy._erfa.core]\n",
      "WARNING: ErfaWarning: ERFA function \"utctai\" yielded 220000 of \"dubious year (Note 3)\" [astropy._erfa.core]\n"
     ]
    }
   ],
   "source": [
    "from astropy.time import Time\n",
    "time1 = Time('2022-01-01T00:00:00.123456789') # ask gaurav why\n",
    "time2 = Time('2023-01-01T00:00:00.123456789')\n",
    "#%time homotime = Time(np.linspace(time1.jd, time2.jd, len(theta)), format=\"jd\")\n",
    "%time homotime = Time(np.random.uniform(low=time1.jd, high=time2.jd, size=len(theta)), format=\"jd\").sort()"
   ]
  },
  {
   "cell_type": "code",
   "execution_count": 310,
   "metadata": {},
   "outputs": [],
   "source": [
    "length = 612"
   ]
  },
  {
   "cell_type": "code",
   "execution_count": 22,
   "metadata": {
    "scrolled": true
   },
   "outputs": [
    {
     "name": "stderr",
     "output_type": "stream",
     "text": [
      "WARNING: ErfaWarning: ERFA function \"utctai\" yielded 220000 of \"dubious year (Note 3)\" [astropy._erfa.core]\n",
      "WARNING: ErfaWarning: ERFA function \"taiutc\" yielded 220000 of \"dubious year (Note 4)\" [astropy._erfa.core]\n"
     ]
    }
   ],
   "source": [
    "sunloc = astropy.coordinates.get_sun(homotime)  #getting loaction of sun with respect to earth"
   ]
  },
  {
   "cell_type": "code",
   "execution_count": 23,
   "metadata": {},
   "outputs": [],
   "source": [
    "sunRA = sunloc.ra.deg  #sun's RA in earth's frame in degrees\n",
    "sunDEC = sunloc.dec.deg #sun's DEC in earth's frame in degrees\n",
    "sunDIST = sunloc.distance.AU*1.496e8 #sun distance from earth in km"
   ]
  },
  {
   "cell_type": "code",
   "execution_count": 67,
   "metadata": {},
   "outputs": [
    {
     "name": "stderr",
     "output_type": "stream",
     "text": [
      "WARNING: ErfaWarning: ERFA function \"utcut1\" yielded 1 of \"dubious year (Note 3)\" [astropy._erfa.core]\n",
      "WARNING: ErfaWarning: ERFA function \"utctai\" yielded 1 of \"dubious year (Note 3)\" [astropy._erfa.core]\n"
     ]
    },
    {
     "data": {
      "text/plain": [
       "0.0019036382527979978"
      ]
     },
     "execution_count": 67,
     "metadata": {},
     "output_type": "execute_result"
    }
   ],
   "source": [
    "(homotime[1].sidereal_time('mean','greenwich') - homotime[0].sidereal_time('mean','greenwich')).rad"
   ]
  },
  {
   "cell_type": "code",
   "execution_count": 285,
   "metadata": {},
   "outputs": [
    {
     "data": {
      "text/plain": [
       "[<matplotlib.lines.Line2D at 0xb30f45748>]"
      ]
     },
     "execution_count": 285,
     "metadata": {},
     "output_type": "execute_result"
    }
   ],
   "source": [
    "plt.plot(homotime.value,sunRA)"
   ]
  },
  {
   "cell_type": "code",
   "execution_count": null,
   "metadata": {},
   "outputs": [],
   "source": []
  },
  {
   "cell_type": "code",
   "execution_count": 447,
   "metadata": {},
   "outputs": [
    {
     "data": {
      "text/plain": [
       "[<matplotlib.lines.Line2D at 0xb3a4657b8>]"
      ]
     },
     "execution_count": 447,
     "metadata": {},
     "output_type": "execute_result"
    }
   ],
   "source": [
    "plt.plot(homotime.value[0:598],sunRA[0:598])"
   ]
  },
  {
   "cell_type": "code",
   "execution_count": 452,
   "metadata": {
    "scrolled": true
   },
   "outputs": [
    {
     "data": {
      "text/plain": [
       "[<matplotlib.lines.Line2D at 0xb455ac828>]"
      ]
     },
     "execution_count": 452,
     "metadata": {},
     "output_type": "execute_result"
    }
   ],
   "source": [
    "plt.plot(homotime.value[0:598],f)"
   ]
  },
  {
   "cell_type": "code",
   "execution_count": 414,
   "metadata": {
    "scrolled": true
   },
   "outputs": [
    {
     "data": {
      "text/plain": [
       "array([1.76605593, 1.77769078, 1.78040752, 1.79898414])"
      ]
     },
     "execution_count": 414,
     "metadata": {},
     "output_type": "execute_result"
    }
   ],
   "source": [
    "(homotime.sidereal_time('mean','greenwich'))[1:5].rad"
   ]
  },
  {
   "cell_type": "code",
   "execution_count": 294,
   "metadata": {},
   "outputs": [],
   "source": [
    "def radectolatlong(Ra,Dec,time): #input in degrees\n",
    "    ra = np.deg2rad(Ra)\n",
    "    dec = np.deg2rad(Dec)\n",
    "    time_sid = (time.sidereal_time('mean','greenwich')).rad\n",
    "    lat = dec\n",
    "    long = ra - time_sid \n",
    "    Lat = np.rad2deg(lat)\n",
    "    Long = np.rad2deg(long)-100.46\n",
    "    return Lat,Long #output in degrees\n",
    "\n",
    "def latlongtoradec(Lat,Long,time): #input in degrees\n",
    "    lat = np.deg2rad(Lat)\n",
    "    long = np.deg2rad(Long)\n",
    "    time_sid = (time.sidereal_time('mean','greenwich')).rad\n",
    "    \n",
    "    DEC = lat\n",
    "    RA = long + time_sid\n",
    "    ra = np.rad2deg(RA)+100.46       #The value of 100.46 degrees is the value needed to make the -\n",
    "                                      #expression yield the correct value for GMST at 0h UT on 1 January 2000.\n",
    "    dec = np.rad2deg(DEC)\n",
    "    return ra,dec #output in degrees\n",
    "\n",
    "\n",
    "\n",
    "def is_saa(lat, longi, time):\n",
    "    \"\"\"Return whether the satellite is in South Atlantic Anamoly or not.\n",
    "    Hard bounds used from the data of RXTE and assumed that the SAA region is rectangular below the inclination of RXTE.\n",
    "    \n",
    "    ra - right ascention of the body in degrees\n",
    "    dec - declination of the body in degrees\n",
    "    time - UTC time in datetime format\n",
    "    \"\"\"\n",
    "    # lat, longi = radec2latlong(ra, dec, time)\n",
    "    #lat, longi = eci_ecef(ra, dec, time)\n",
    "    lat = np.rad2deg(lat)\n",
    "    longi = np.rad2deg(longi)\n",
    "    if -23< lat <= -7 and -90<=longi<=-10:\n",
    "        return True\n",
    "    \n",
    "#     if -90<=longi<=-10:\n",
    "#         y = 7*longi/80 + 23/8\n",
    "#         if lat < y:\n",
    "#             return True\n",
    "    if -100<=longi<=-35:\n",
    "        y=14*longi/65+189/13\n",
    "        if lat<=y:\n",
    "            return True\n",
    "    \n",
    "    if -35<longi<-10:\n",
    "        y=-14/25*longi-63/5\n",
    "        if lat<y:\n",
    "            return True\n",
    "    \n",
    "    \n",
    "    if -10<=longi<=40:\n",
    "        z = -9*longi/25 -43/5\n",
    "        if lat<z: \n",
    "            return True\n",
    "\t\n",
    "\n",
    "    if -50<= lat <=-23 and -90<=longi<=40:\n",
    "        return True\n",
    "    else: return False \n",
    "\n",
    "def getxyz(theta,phi,n):\n",
    "    if n==1:\n",
    "        #lat, long\n",
    "        theta = np.pi/2 - theta\n",
    "    x=np.sin(theta)*np.cos(phi)\n",
    "    y=np.sin(theta)*np.sin(phi)\n",
    "    z=np.cos(theta)\n",
    "    return x,y,z\n",
    "def getnorm(vec):\n",
    "    norm = np.linalg.norm(vec)\n",
    "    #print (norm)\n",
    "    return vec/norm"
   ]
  },
  {
   "cell_type": "code",
   "execution_count": 295,
   "metadata": {},
   "outputs": [],
   "source": [
    "timeinISO = str(homotime.iso)"
   ]
  },
  {
   "cell_type": "code",
   "execution_count": 296,
   "metadata": {},
   "outputs": [
    {
     "name": "stderr",
     "output_type": "stream",
     "text": [
      "WARNING: ErfaWarning: ERFA function \"d2dtf\" yielded 1 of \"dubious year (Note 5)\" [astropy._erfa.core]\n"
     ]
    }
   ],
   "source": [
    "line0 = 'ASTROSAT' #Daksha\n",
    "line1 = '1 40930U 15052A   22302.17850942  .00000772  00000-0  19439-4 0  9990'\n",
    "line2 = '2 40930   5.9975   0.5159 0009292 339.1937  20.7998 14.76165238112787'\n",
    "line3 = '2 40930   5.9975   0.5159 0009292 339.1937 200.7998 14.76165238112787'\n",
    "\n",
    "# line0 = 'SWIFT'#BAT\n",
    "# line1 = '1 28485U 04047A   22302.18405080  .00001301  00000-0  60140-4 0  9997'\n",
    "# line2 = '2 28485  20.5572 277.8742 0011565 130.4507 229.6936 15.03911323708409'\n",
    "# line0 = 'FGRST (GLAST)'#Fermi\n",
    "# line1 = '1 33053U 08029A   22100.45970249  .00000511  00000-0  12538-4 0  9998'\n",
    "# line2 = '2 33053  25.5819 140.4060 0012690 120.1881 239.9912 15.11069703542313'\n",
    "astrosat1 = ephem.readtle(line0,line1,line2)\n",
    "astrosat2 = ephem.readtle(line0,line1,line3)\n",
    "\n",
    "sublat1 = np.empty(len(theta),dtype = object)\n",
    "sublong1 = np.empty(len(theta),dtype = object)\n",
    "sublat2 = np.empty(len(theta),dtype = object)\n",
    "sublong2 = np.empty(len(theta),dtype = object)\n",
    "for i in range(len(theta)):\n",
    "    time = str(homotime[i].iso)\n",
    "    astrosat1.compute(time)\n",
    "    astrosat2.compute(time)\n",
    "    sublat1[i] = (astrosat1.sublat)#sublat in radians\n",
    "    sublong1[i] = (astrosat1.sublong)#sublong in radian\n",
    "    sublat2[i] = (astrosat2.sublat)#sublat in radians\n",
    "    sublong2[i] = (astrosat2.sublong)#sublong in radian"
   ]
  },
  {
   "cell_type": "code",
   "execution_count": 297,
   "metadata": {},
   "outputs": [],
   "source": [
    "time = datetime(2015, 1, 1, tzinfo=timezone.utc)\n",
    "x, y, z = earth(JulianDate(utc=time)).observe(sun).apparent().position.AU"
   ]
  },
  {
   "cell_type": "code",
   "execution_count": null,
   "metadata": {},
   "outputs": [],
   "source": []
  },
  {
   "cell_type": "code",
   "execution_count": null,
   "metadata": {},
   "outputs": [],
   "source": [
    "for i in range(10):\n",
    "    astrosat1.compute(str(homotime[i].iso))\n",
    "    (np.array(astrosat1.sublat))"
   ]
  },
  {
   "cell_type": "code",
   "execution_count": 298,
   "metadata": {},
   "outputs": [
    {
     "name": "stderr",
     "output_type": "stream",
     "text": [
      "WARNING: ErfaWarning: ERFA function \"d2dtf\" yielded 1 of \"dubious year (Note 5)\" [astropy._erfa.core]\n"
     ]
    }
   ],
   "source": [
    "RA1 = np.empty(len(theta),dtype = object)\n",
    "DEC1 = np.empty(len(theta),dtype = object)\n",
    "for i in range(len(theta)):\n",
    "    time = str(homotime[i].iso)\n",
    "    astrosat1.compute(time)\n",
    "    RA1[i] = np.rad2deg(astrosat1.ra)\n",
    "    DEC1[i] = (astrosat1.dec)"
   ]
  },
  {
   "cell_type": "code",
   "execution_count": 319,
   "metadata": {},
   "outputs": [],
   "source": [
    "plt.plot(homotime.value[0:length],RA1[0:length],color=\"green\")\n",
    "plt.xlabel(\"1 day\",color=\"blue\")\n",
    "plt.ylabel(\"Right ascension in degree (in degree)\",color=\"blue\")\n",
    "plt.title(\"DAKSHA\",color=\"blue\")\n",
    "plt.savefig(\"RA_satellite.pdf\")"
   ]
  },
  {
   "cell_type": "code",
   "execution_count": 312,
   "metadata": {
    "scrolled": true
   },
   "outputs": [],
   "source": [
    "plt.plot(homotime.value[0:length],DEC1[0:length],\"green\")\n",
    "plt.xlabel(\"1 day\",color=\"blue\")\n",
    "plt.ylabel(\"Declination or Latitude (in degree)\",color=\"blue\")\n",
    "plt.title(\"DAKSHA\",color=\"blue\")\n",
    "plt.savefig(\"Declination_satellite.pdf\")"
   ]
  },
  {
   "cell_type": "markdown",
   "metadata": {},
   "source": [
    "#### HA0 = LST0 - RA0\n",
    "#### HA1 = HA0 = LST1 - RA1\n",
    "#### RA1 = RA0 + (LST1 - LST0)\n",
    "\n"
   ]
  },
  {
   "cell_type": "code",
   "execution_count": 198,
   "metadata": {},
   "outputs": [
    {
     "name": "stderr",
     "output_type": "stream",
     "text": [
      "WARNING: ErfaWarning: ERFA function \"utcut1\" yielded 1 of \"dubious year (Note 3)\" [astropy._erfa.core]\n",
      "WARNING: ErfaWarning: ERFA function \"utctai\" yielded 1 of \"dubious year (Note 3)\" [astropy._erfa.core]\n"
     ]
    },
    {
     "data": {
      "text/plain": [
       "284.46812108191256"
      ]
     },
     "execution_count": 198,
     "metadata": {},
     "output_type": "execute_result"
    }
   ],
   "source": [
    "(radectolatlong(sunRA[i],sunDEC[i],homotime[i])[1])"
   ]
  },
  {
   "cell_type": "code",
   "execution_count": 317,
   "metadata": {},
   "outputs": [
    {
     "name": "stderr",
     "output_type": "stream",
     "text": [
      "WARNING: ErfaWarning: ERFA function \"utcut1\" yielded 1 of \"dubious year (Note 3)\" [astropy._erfa.core]\n",
      "WARNING: ErfaWarning: ERFA function \"utctai\" yielded 1 of \"dubious year (Note 3)\" [astropy._erfa.core]\n"
     ]
    }
   ],
   "source": [
    "earthRA = np.empty((length),dtype=object)\n",
    "earthDEC = np.empty(length,dtype=object)\n",
    "for i in range((length)):\n",
    "    earthRA[i] = latlongtoradec(sublat1[i],sublong1[i],homotime[i])[0]\n",
    "    earthDEC[i] = latlongtoradec(sublat1[i],sublong1[i],homotime[i])[1]"
   ]
  },
  {
   "cell_type": "code",
   "execution_count": 318,
   "metadata": {},
   "outputs": [],
   "source": [
    "plt.plot(homotime.value[0:length],earthRA,\"green\")\n",
    "plt.xlabel(\"1 day\",color=\"blue\")\n",
    "plt.ylabel(\"Right ascension in degree\",color=\"blue\")\n",
    "plt.title(\"RA for anti-earth orbit\",color=\"blue\")\n",
    "plt.savefig(\"RA_satellite.pdf\")"
   ]
  },
  {
   "cell_type": "markdown",
   "metadata": {},
   "source": [
    "## SUN"
   ]
  },
  {
   "cell_type": "code",
   "execution_count": 95,
   "metadata": {},
   "outputs": [],
   "source": [
    "time = datetime(2022, 1, 1)\n",
    "x, y, z = earth(JulianDate(utc=time)).observe(sun).apparent().position.AU"
   ]
  },
  {
   "cell_type": "code",
   "execution_count": 320,
   "metadata": {},
   "outputs": [
    {
     "name": "stderr",
     "output_type": "stream",
     "text": [
      "WARNING: ErfaWarning: ERFA function \"d2dtf\" yielded 1 of \"dubious year (Note 5)\" [astropy._erfa.core]\n"
     ]
    }
   ],
   "source": [
    "x = np.empty(length,dtype=object)\n",
    "y = np.empty(length,dtype=object)\n",
    "z = np.empty(length,dtype=object)\n",
    "satvecold = np.empty(length,dtype=object)\n",
    "xaxis = np.empty(length,dtype=object)\n",
    "for i in range(0,length-1):\n",
    "    temp = homotime.iso[i]\n",
    "    year = int(temp[0:4])\n",
    "    month = int(temp[5:7])\n",
    "    day = int(temp[8:10])\n",
    "    hour = int(temp[11:13])\n",
    "    minu = int(temp[14:16])\n",
    "    secs = int(temp[17:19])\n",
    "    #time = Time(time)\n",
    "    time = datetime(year, month,day,hour,minu,secs)\n",
    "    #time0 = datetime.datetime(2000, 1, 1, 12, 0, 0)\n",
    "    #time = datetime(2022, 1, 1, tzinfo=timezone.utc)\n",
    "    x[i]=(-1*1.496e8*earth(JulianDate(utc=time)).observe(sun).apparent().position.AU[0])\n",
    "    y[i]=(-1*1.496e8*earth(JulianDate(utc=time)).observe(sun).apparent().position.AU[1])\n",
    "    z[i]=(-1*1.496e8*earth(JulianDate(utc=time)).observe(sun).apparent().position.AU[2])\n",
    "    \n",
    "    temp = homotime.iso[i+1]\n",
    "    year = int(temp[0:4])\n",
    "    month = int(temp[5:7])\n",
    "    day = int(temp[8:10])\n",
    "    hour = int(temp[11:13])\n",
    "    minu = int(temp[14:16])\n",
    "    secs = int(temp[17:19])\n",
    "    #time = Time(time)\n",
    "    time = datetime(year, month,day,hour,minu,secs)\n",
    "    x1 = (-1*1.496e8*earth(JulianDate(utc=time)).observe(sun).apparent().position.AU[0])\n",
    "    y1 = (-1*1.496e8*earth(JulianDate(utc=time)).observe(sun).apparent().position.AU[1])\n",
    "    z1 = (-1*1.496e8*earth(JulianDate(utc=time)).observe(sun).apparent().position.AU[2])\n",
    "    xaxis[i] = x1-x[i],y1-y[i],z1-z[i]\n",
    "    time = str(homotime[i].iso)\n",
    "    astrosat1.compute(time)\n",
    "    s = (getnorm(getxyz(astrosat1.sublat,astrosat1.sublong,1)))\n",
    "    satvecold[i] = np.array([s[0]*7000,s[1]*7000,s[2]*7000])"
   ]
  },
  {
   "cell_type": "code",
   "execution_count": 333,
   "metadata": {},
   "outputs": [
    {
     "data": {
      "text/plain": [
       "'2022-01-01 19:22:52.730'"
      ]
     },
     "execution_count": 333,
     "metadata": {},
     "output_type": "execute_result"
    }
   ],
   "source": [
    "homotime.iso[500]"
   ]
  },
  {
   "cell_type": "code",
   "execution_count": 321,
   "metadata": {},
   "outputs": [],
   "source": [
    "sunsat = np.empty(length,dtype=object)\n",
    "for i in range(0,length-1):\n",
    "    sunsat[i] = x[i]+satvecold[i][0],y[i]+satvecold[i][1],z[i]+satvecold[i][2]"
   ]
  },
  {
   "cell_type": "code",
   "execution_count": 322,
   "metadata": {},
   "outputs": [],
   "source": [
    "decsun = np.empty(length,dtype=object)\n",
    "for i in range(0,length-1):\n",
    "    norm1 = (x[i]**2+y[i]**2+z[i]**2)**0.5\n",
    "    norm2 = (sunsat[i][0]**2+sunsat[i][1]**2+sunsat[i][2]**2)**0.5\n",
    "    decsun[i] = np.arccos((x[i]*sunsat[i][0]+y[i]*sunsat[i][1]+z[i]*sunsat[i][2])/(norm1*norm2))*180/np.pi"
   ]
  },
  {
   "cell_type": "code",
   "execution_count": 338,
   "metadata": {},
   "outputs": [],
   "source": [
    "plt.plot(f[0:length-1],decsun[0:length-1])\n",
    "#plt.xticks([0,50000,110000,160000,219999],['Jan','Mar','Jun','Sep','Dec'])\n",
    "plt.xticks([0,100,200,300,400,500,610],['00:00','04:11','07:35','11:34','15:00','19:22','23:52'])\n",
    "plt.title(\"Daksha's DEC w.r.t sun\")\n",
    "plt.xlabel(\"1 Day(time)\")\n",
    "plt.ylabel(\"DEC in degrees\")\n",
    "plt.savefig(\"DEC_Dakshawrtsunforoneday.pdf\")"
   ]
  },
  {
   "cell_type": "code",
   "execution_count": 264,
   "metadata": {},
   "outputs": [
    {
     "name": "stderr",
     "output_type": "stream",
     "text": [
      "/anaconda3/lib/python3.6/site-packages/ipykernel_launcher.py:8: RuntimeWarning: invalid value encountered in arccos\n",
      "  \n"
     ]
    }
   ],
   "source": [
    "projsunsatonxy = np.empty(length,dtype=object)\n",
    "rightascension = np.empty(length,dtype=object)\n",
    "for i in range(0,length-1):\n",
    "    sindel = np.sin(decsun[i]*np.pi/180)\n",
    "    projsunsatonxy[i] = sindel*sunsat[i][0],sindel*sunsat[i][1],sindel*sunsat[i][2]\n",
    "    norm1 = (projsunsatonxy[i][0]**2+projsunsatonxy[i][1]**2+projsunsatonxy[i][2])**0.5\n",
    "    norm2 = (xaxis[0][0]**2+xaxis[0][1]**2+xaxis[0][2]**2)**0.5\n",
    "    rightascension[i] = np.arccos((projsunsatonxy[i][0]*xaxis[0][0]+projsunsatonxy[i][1]*xaxis[0][1]+projsunsatonxy[i][2]*xaxis[0][2])/(norm1*norm2))*180/np.pi"
   ]
  },
  {
   "cell_type": "code",
   "execution_count": 340,
   "metadata": {},
   "outputs": [],
   "source": [
    "plt.plot(f[0:length-1],rightascension[0:length-1])\n",
    "plt.title(\"Daksha's RA w.r.t sun\")\n",
    "plt.xticks([0,100,200,300,400,500,610],['00:00','04:11','07:35','11:34','15:00','19:22','23:52'])\n",
    "plt.xlabel(\"1 Day(time)\")\n",
    "plt.ylabel(\"RA in degrees\")\n",
    "plt.savefig(\"RA_Dakshawrtsunforoneday.pdf\")"
   ]
  },
  {
   "cell_type": "code",
   "execution_count": null,
   "metadata": {},
   "outputs": [],
   "source": []
  },
  {
   "cell_type": "code",
   "execution_count": 247,
   "metadata": {},
   "outputs": [
    {
     "data": {
      "text/plain": [
       "0.9947420214525368"
      ]
     },
     "execution_count": 247,
     "metadata": {},
     "output_type": "execute_result"
    }
   ],
   "source": [
    "norm1 = (projsunsatonxy[60000][0]**2+projsunsatonxy[60000][1]**2+projsunsatonxy[60000][2])**0.5\n",
    "norm2 = (xaxis[0][0]**2+xaxis[0][1]**2+xaxis[0][2]**2)**0.5\n",
    "(projsunsatonxy[60000][0]*xaxis[0][0]+projsunsatonxy[60000][1]*xaxis[0][1]+projsunsatonxy[60000][2]*xaxis[0][2])/(norm1*norm2)"
   ]
  },
  {
   "cell_type": "code",
   "execution_count": 255,
   "metadata": {},
   "outputs": [],
   "source": [
    "f = np.linspace(0,220000,220000)"
   ]
  },
  {
   "cell_type": "code",
   "execution_count": 270,
   "metadata": {},
   "outputs": [],
   "source": [
    "def function(theta,x):\n",
    "    return x-np.sin(theta)  #theta in radians"
   ]
  },
  {
   "cell_type": "code",
   "execution_count": 276,
   "metadata": {},
   "outputs": [
    {
     "data": {
      "text/plain": [
       "array([0.52359878])"
      ]
     },
     "execution_count": 276,
     "metadata": {},
     "output_type": "execute_result"
    }
   ],
   "source": [
    "scipy.optimize.fsolve(function,0,args=1/2)"
   ]
  },
  {
   "cell_type": "code",
   "execution_count": 288,
   "metadata": {},
   "outputs": [
    {
     "name": "stderr",
     "output_type": "stream",
     "text": [
      "/anaconda3/lib/python3.6/site-packages/scipy/optimize/minpack.py:163: RuntimeWarning: The iteration is not making good progress, as measured by the \n",
      "  improvement from the last ten iterations.\n",
      "  warnings.warn(msg, RuntimeWarning)\n",
      "/anaconda3/lib/python3.6/site-packages/scipy/optimize/minpack.py:163: RuntimeWarning: The iteration is not making good progress, as measured by the \n",
      "  improvement from the last five Jacobian evaluations.\n",
      "  warnings.warn(msg, RuntimeWarning)\n"
     ]
    }
   ],
   "source": [
    "angle = np.empty(length,dtype=object)\n",
    "guess = 0\n",
    "for i in range(length-1):\n",
    "    norm1 = (projsunsatonxy[i][0]**2+projsunsatonxy[i][1]**2+projsunsatonxy[i][2])**0.5\n",
    "    norm2 = (xaxis[0][0]**2+xaxis[0][1]**2+xaxis[0][2]**2)**0.5\n",
    "    x = (projsunsatonxy[i][0]*xaxis[0][0]+projsunsatonxy[i][1]*xaxis[0][1]+projsunsatonxy[i][2]*xaxis[0][2])/(norm1*norm2)\n",
    "    if x>1:\n",
    "        x=1\n",
    "    angle[i] = scipy.optimize.fsolve(function,guess,args=x)[0]*180/np.pi\n",
    "    guess += np.pi/110000"
   ]
  },
  {
   "cell_type": "code",
   "execution_count": 291,
   "metadata": {},
   "outputs": [],
   "source": [
    "plt.plot(f[0:length-1],angle[0:length-1])\n",
    "plt.title(\"Daksha's RA w.r.t sun\")\n",
    "plt.xlabel(\"1 year\")\n",
    "plt.ylabel(\"RA in degrees\")\n",
    "plt.savefig(\"RA_dakshawrtsun.pdf\")"
   ]
  },
  {
   "cell_type": "code",
   "execution_count": null,
   "metadata": {},
   "outputs": [],
   "source": []
  }
 ],
 "metadata": {
  "kernelspec": {
   "display_name": "Python 3",
   "language": "python",
   "name": "python3"
  },
  "language_info": {
   "codemirror_mode": {
    "name": "ipython",
    "version": 3
   },
   "file_extension": ".py",
   "mimetype": "text/x-python",
   "name": "python",
   "nbconvert_exporter": "python",
   "pygments_lexer": "ipython3",
   "version": "3.6.5"
  }
 },
 "nbformat": 4,
 "nbformat_minor": 2
}
