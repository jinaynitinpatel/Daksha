{
 "cells": [
  {
   "cell_type": "code",
   "execution_count": 40,
   "metadata": {},
   "outputs": [
    {
     "name": "stdout",
     "output_type": "stream",
     "text": [
      "Using matplotlib backend: MacOSX\n"
     ]
    }
   ],
   "source": [
    "import scipy.io\n",
    "import numpy as np\n",
    "import datetime \n",
    "import ephem\n",
    "import random\n",
    "from scipy import spatial\n",
    "import matplotlib.pyplot as plt\n",
    "%matplotlib\n",
    "from astropy.table import Table\n",
    "import pandas as pd\n",
    "\n",
    "data=scipy.io.loadmat('BNS-sources-trial-10saleem.mat')['data'] \n",
    "#sourceparameters\n",
    "DL=data[:,0]\n",
    "theta=data[:,1]\n",
    "phi=data[:,2]"
   ]
  },
  {
   "cell_type": "code",
   "execution_count": 2,
   "metadata": {},
   "outputs": [
    {
     "data": {
      "text/plain": [
       "(array([1.50828927, 1.3218442 , 4.88369119, ..., 0.14711676, 1.92059118,\n",
       "        3.73704228]),\n",
       " array([2.05597716, 0.7623997 , 3.94531224, ..., 0.87258219, 1.87887723,\n",
       "        3.17437839]),\n",
       " array([2.60109925, 2.01527692, 6.56372816, ..., 2.09722166, 3.03471228,\n",
       "        5.1190831 ]),\n",
       " array([2.9615534 , 2.05214273, 7.23216427, ..., 2.10021926, 3.04157166,\n",
       "        5.57032074]),\n",
       " array([2.80024108, 2.33763304, 7.55768521, ..., 2.6656951 , 3.20978535,\n",
       "        5.91029335]))"
      ]
     },
     "execution_count": 2,
     "metadata": {},
     "output_type": "execute_result"
    }
   ],
   "source": [
    "#snr at each detector\n",
    "snrH=data[:,5]\n",
    "snrL=data[:,6]\n",
    "snrV=data[:,7]\n",
    "snrK=data[:,8]\n",
    "snrI=data[:,9]\n",
    "#or for networks of 5 and 3 detectors, one can use directly,\n",
    "snrLHVKI=np.sqrt(data[:,5]**2 + data[:,6]**2 + data[:,7]**2 +data[:,8]**2 + data[:,9]**2)  \n",
    "# SNR at LHVKI\n",
    "snrLHV=np.sqrt(data[:,5]**2 + data[:,6]**2 + data[:,7]**2 )  # LHV*\n",
    "snrLHVK = np.sqrt(data[:,5]**2 + data[:,6]**2 + data[:,7]**2 + data[:,8]**2)\n",
    "snrLHVI = np.sqrt(data[:,5]**2 + data[:,6]**2 + data[:,7]**2 + data[:,9]**2)\n",
    "snrH, snrL, snrLHV,snrLHVK, snrLHVI"
   ]
  },
  {
   "cell_type": "code",
   "execution_count": 4,
   "metadata": {},
   "outputs": [
    {
     "name": "stderr",
     "output_type": "stream",
     "text": [
      "WARNING: ErfaWarning: ERFA function \"dtf2d\" yielded 1 of \"dubious year (Note 6)\" [astropy._erfa.core]\n",
      "WARNING: ErfaWarning: ERFA function \"d2dtf\" yielded 1 of \"dubious year (Note 5)\" [astropy._erfa.core]\n"
     ]
    },
    {
     "name": "stdout",
     "output_type": "stream",
     "text": [
      "***Completed***\r"
     ]
    }
   ],
   "source": [
    "from astropy.time import Time\n",
    "#import random\n",
    "\n",
    "def homotime(number):\n",
    "    \"\"\"\n",
    "    Defines homogenously distributed time over the time 2022-2023. Number of time elements is essentially the number of\n",
    "    theta,  phi you get.(220000)\n",
    "    Takes time in UTC format and gives out time in UTC format\n",
    "    \"\"\"\n",
    "    time1 = Time('2022-01-01T00:00:00.123456789')\n",
    "    time1 = time1.jd\n",
    "    time2 = Time('2023-01-01T00:00:00.123456789')\n",
    "    time2 = time2.jd\n",
    "    dt = (time2-time1)/number\n",
    "    homotime = []\n",
    "    \n",
    "    for i in range(number):\n",
    "        if i%(int((number)/10))==0:print(int(i*100/(number)), '% completed', end='\\r')\n",
    "        timejd = time1 + i*dt\n",
    "        timeutc = Time(timejd, format='jd')\n",
    "        homotime.append(timeutc.iso)\n",
    "    print('***Completed***', end='\\r')\n",
    "    #print(len(homotime))\n",
    "    return homotime\n",
    "homotime = homotime(len(theta))\n"
   ]
  },
  {
   "cell_type": "code",
   "execution_count": null,
   "metadata": {},
   "outputs": [],
   "source": []
  },
  {
   "cell_type": "code",
   "execution_count": 7,
   "metadata": {},
   "outputs": [],
   "source": [
    "def ecef_eci(lat, lon, time):\n",
    "    \"\"\"Convert lat long to right ascention and declination\n",
    "    lat - latitude of the place where the tigger is at the zenith in degrees\n",
    "    lon - longitude of the place where the tigger is at the zenith in degrees\n",
    "    time - UTC time in datetime format\n",
    "    \"\"\"\n",
    "    lat = np.deg2rad(lat)\n",
    "    lon = np.deg2rad(lon)\n",
    "    temp = time\n",
    "    year = int(temp[0:4])\n",
    "    month = int(temp[5:7])\n",
    "    day = int(temp[8:10])\n",
    "    hour = int(temp[11:13])\n",
    "    minu = int(temp[14:16])\n",
    "    secs = int(temp[17:19])\n",
    "    #time = Time(time)\n",
    "    time = datetime.datetime(year, month,day,hour,minu,secs)\n",
    "    time0 = datetime.datetime(2000, 1, 1, 12, 0, 0)\n",
    "    time_sid = 18.697374558 + 24.06570982441908*(time - time0).total_seconds()/86400.0\n",
    "    time_sid = time_sid - 24.0*np.floor(time_sid/24.0)\n",
    "    dec = lat\n",
    "    ra = lon + np.pi/24.0*time_sid\n",
    "    dec = np.rad2deg(dec)\n",
    "    ra = np.rad2deg(ra)\n",
    "    return ra,dec\n",
    "\n",
    "\n",
    "def eci_ecef(ra, dec, time):\n",
    "    \"\"\"Convert ra dec to lattitude and longitude\n",
    "    ra - right ascention of the body in radians\n",
    "    dec - declination of the body in radians\n",
    "    time - UTC time in datetime format\n",
    "    \"\"\"\n",
    "#     ra = np.deg2rad(ra)\n",
    "#     dec = np.deg2rad(dec)\n",
    "    temp = time\n",
    "    year = int(temp[0:4])\n",
    "    month = int(temp[5:7])\n",
    "    day = int(temp[8:10])\n",
    "    hour = int(temp[11:13])\n",
    "    minu = int(temp[14:16])\n",
    "    secs = int(temp[17:19])\n",
    "    #time = Time(time)\n",
    "    time = datetime.datetime(year, month,day,hour,minu,secs)\n",
    "    time0 = datetime.datetime(2000, 1, 1, 12, 0, 0)\n",
    "    time_sid = 18.697374558 + 24.06570982441908*(time - time0).total_seconds()/86400.0\n",
    "    time_sid = time_sid - 24.0*np.floor(time_sid/24.0)\n",
    "    lon = (ra - 2*np.pi/24.0*time_sid)\n",
    "    lat = dec\n",
    "#     lon = np.rad2deg(lon)\n",
    "#     lat = np.rad2deg(lat)\n",
    "    return lat, lon\n",
    "\n",
    "def is_saa(lat, longi, time):\n",
    "    \"\"\"Return whether the satellite is in South Atlantic Anamoly or not.\n",
    "    Hard bounds used from the data of RXTE and assumed that the SAA region is rectangular below the inclination of RXTE.\n",
    "    \n",
    "    ra - right ascention of the body in degrees\n",
    "    dec - declination of the body in degrees\n",
    "    time - UTC time in datetime format\n",
    "    \"\"\"\n",
    "    # lat, longi = radec2latlong(ra, dec, time)\n",
    "    #lat, longi = eci_ecef(ra, dec, time)\n",
    "    lat = np.rad2deg(lat)\n",
    "    longi = np.rad2deg(longi)\n",
    "    if -23< lat <= -7 and -90<=longi<=-10:\n",
    "        return True\n",
    "    \n",
    "#     if -90<=longi<=-10:\n",
    "#         y = 7*longi/80 + 23/8\n",
    "#         if lat < y:\n",
    "#             return True\n",
    "    if -100<=longi<=-35:\n",
    "        y=14*longi/65+189/13\n",
    "        if lat<=y:\n",
    "            return True\n",
    "    \n",
    "    if -35<longi<-10:\n",
    "        y=-14/25*longi-63/5\n",
    "        if lat<y:\n",
    "            return True\n",
    "    \n",
    "    \n",
    "    if -10<=longi<=40:\n",
    "        z = -9*longi/25 -43/5\n",
    "        if lat<z: \n",
    "            return True\n",
    "\t\n",
    "\n",
    "    if -50<= lat <=-23 and -90<=longi<=40:\n",
    "        return True\n",
    "    else: return False \n",
    "\n",
    "def getxyz(theta,phi,n):\n",
    "    if n==1:\n",
    "        #lat, long\n",
    "        theta = np.pi/2 - theta\n",
    "    x=np.sin(theta)*np.cos(phi)\n",
    "    y=np.sin(theta)*np.sin(phi)\n",
    "    z=np.cos(theta)\n",
    "    return x,y,z\n",
    "def getnorm(vec):\n",
    "    norm = np.linalg.norm(vec)\n",
    "    #print (norm)\n",
    "    return vec/norm"
   ]
  },
  {
   "cell_type": "code",
   "execution_count": 8,
   "metadata": {},
   "outputs": [],
   "source": [
    "line0 = 'ASTROSAT' #Daksha\n",
    "line1 = '1 40930U 15052A   22302.17850942  .00000772  00000-0  19439-4 0  9990'\n",
    "line2 = '2 40930   5.9975   0.5159 0009292 339.1937  20.7998 14.76165238112787'\n",
    "line3 = '2 40930   5.9975   0.5159 0009292 339.1937 200.7998 14.76165238112787'\n",
    "\n",
    "# line0 = 'SWIFT'#BAT\n",
    "# line1 = '1 28485U 04047A   22302.18405080  .00001301  00000-0  60140-4 0  9997'\n",
    "# line2 = '2 28485  20.5572 277.8742 0011565 130.4507 229.6936 15.03911323708409'\n",
    "# line0 = 'FGRST (GLAST)'#Fermi\n",
    "# line1 = '1 33053U 08029A   22100.45970249  .00000511  00000-0  12538-4 0  9998'\n",
    "# line2 = '2 33053  25.5819 140.4060 0012690 120.1881 239.9912 15.11069703542313'\n",
    "astrosat1 = ephem.readtle(line0,line1,line2)\n",
    "astrosat2 = ephem.readtle(line0,line1,line3)\n",
    "\n",
    "sublat1 = []\n",
    "sublong1 = []\n",
    "sublat2 = []\n",
    "sublong2 = []\n",
    "for i in range(len(homotime)):\n",
    "    astrosat1.compute(homotime[i])\n",
    "    astrosat2.compute(homotime[i])\n",
    "    sublat1.append(astrosat1.sublat)#sublat in radians\n",
    "    sublong1.append(astrosat1.sublong)#sublong in radian\n",
    "    sublat2.append(astrosat2.sublat)#sublat in radians\n",
    "    sublong2.append(astrosat2.sublong)#sublong in radian\n",
    "    \n"
   ]
  },
  {
   "cell_type": "code",
   "execution_count": 48,
   "metadata": {},
   "outputs": [
    {
     "data": {
      "text/plain": [
       "[<matplotlib.lines.Line2D at 0xb299e85c0>]"
      ]
     },
     "execution_count": 48,
     "metadata": {},
     "output_type": "execute_result"
    }
   ],
   "source": [
    "t = homotime\n",
    "yo = []\n",
    "ra = []\n",
    "dec = []\n",
    "for i in range(220000):\n",
    "    yo.append(ecef_eci(sublat1[i],sublong1[i],t[i]))\n",
    "    ra.append(yo[i][0])\n",
    "    dec.append(yo[i][1])\n",
    "df = pd.DataFrame(data=ra)\n",
    "df['declination'] = dec\n",
    "df['time'] = t\n",
    "df.to_csv('/Users/jinaypatel/Desktop/Daksha/ra_dec_antiearth.csv', sep=',', encoding='utf-8')\n",
    "plt.plot(t[0:100],dec[0:100])"
   ]
  },
  {
   "cell_type": "code",
   "execution_count": null,
   "metadata": {},
   "outputs": [],
   "source": []
  }
 ],
 "metadata": {
  "kernelspec": {
   "display_name": "Python 3",
   "language": "python",
   "name": "python3"
  },
  "language_info": {
   "codemirror_mode": {
    "name": "ipython",
    "version": 3
   },
   "file_extension": ".py",
   "mimetype": "text/x-python",
   "name": "python",
   "nbconvert_exporter": "python",
   "pygments_lexer": "ipython3",
   "version": "3.6.5"
  }
 },
 "nbformat": 4,
 "nbformat_minor": 2
}
