{
 "cells": [
  {
   "cell_type": "code",
   "execution_count": 5,
   "metadata": {},
   "outputs": [
    {
     "name": "stdout",
     "output_type": "stream",
     "text": [
      "Using matplotlib backend: MacOSX\n"
     ]
    }
   ],
   "source": [
    "import scipy.io\n",
    "import numpy as np\n",
    "import datetime \n",
    "import ephem\n",
    "import random\n",
    "from scipy import spatial\n",
    "import matplotlib.pyplot as plt\n",
    "%matplotlib\n",
    "from astropy.table import Table\n",
    "import astropy.units as u\n",
    "import pandas as pd\n",
    "from matplotlib.backends.backend_pdf import PdfPages\n",
    "import astropy\n",
    "from astropy.time import Time\n",
    "from astropy.coordinates import EarthLocation\n",
    "import sunpy.coordinates\n",
    "from datetime import datetime, timezone\n",
    "from math import atan, atan2, degrees, floor, pi, radians, sin, sqrt\n",
    "from skyfield.api import earth, JulianDate, now, sun\n",
    "data=scipy.io.loadmat('BNS-sources-trial-10saleem.mat')['data'] \n",
    "#sourceparameters\n",
    "DL=data[:,0]\n",
    "theta=data[:,1]\n",
    "phi=data[:,2]\n",
    "import pandas as pd"
   ]
  },
  {
   "cell_type": "code",
   "execution_count": 6,
   "metadata": {},
   "outputs": [],
   "source": [
    "length = 220000"
   ]
  },
  {
   "cell_type": "code",
   "execution_count": 11,
   "metadata": {},
   "outputs": [],
   "source": [
    "#df = pd.read_csv('/Users/jinaypatel/Desktop/Daksha/Events(triggers).csv')\n",
    "#tt = df.sort_values(by=['Time in isot'])\n",
    "#time = tt['Time in jd']\n",
    "#homotime = time.reset_index(drop=True) #resetting the index \n",
    "#t = np.empty(length,dtype=object)\n",
    "#for i in range(length):\n",
    " #   t[i] = (Time(homotime[i],format='jd'))\n"
   ]
  },
  {
   "cell_type": "code",
   "execution_count": 12,
   "metadata": {},
   "outputs": [],
   "source": [
    "homotime = np.empty(length,dtype=object)"
   ]
  },
  {
   "cell_type": "code",
   "execution_count": 13,
   "metadata": {},
   "outputs": [
    {
     "name": "stderr",
     "output_type": "stream",
     "text": [
      "WARNING: ErfaWarning: ERFA function \"dtf2d\" yielded 1 of \"dubious year (Note 6)\" [astropy._erfa.core]\n"
     ]
    },
    {
     "name": "stdout",
     "output_type": "stream",
     "text": [
      "90 % completed % completed\r"
     ]
    }
   ],
   "source": [
    "time1 = Time('2022-01-01T00:00:00.123456789')\n",
    "time1 = time1.jd\n",
    "time2 = Time('2023-01-01T00:00:00.123456789')\n",
    "time2 = time2.jd\n",
    "dt = (time2-time1)/length\n",
    "    \n",
    "for i in range(length):\n",
    "    if i%(int((length)/10))==0:print(int(i*100/(length)), '% completed', end='\\r')\n",
    "    timejd = time1 + i*dt\n",
    "    homotime[i] = Time(timejd, format='jd')\n"
   ]
  },
  {
   "cell_type": "code",
   "execution_count": 3,
   "metadata": {},
   "outputs": [
    {
     "ename": "NameError",
     "evalue": "name 'Time' is not defined",
     "output_type": "error",
     "traceback": [
      "\u001b[0;31m---------------------------------------------------------------------------\u001b[0m",
      "\u001b[0;31mNameError\u001b[0m                                 Traceback (most recent call last)",
      "\u001b[0;32m<ipython-input-3-298f46a19166>\u001b[0m in \u001b[0;36m<module>\u001b[0;34m()\u001b[0m\n\u001b[0;32m----> 1\u001b[0;31m \u001b[0mtime1\u001b[0m \u001b[0;34m=\u001b[0m \u001b[0mTime\u001b[0m\u001b[0;34m(\u001b[0m\u001b[0;34m'2022-01-01T00:00:00'\u001b[0m\u001b[0;34m)\u001b[0m\u001b[0;34m\u001b[0m\u001b[0m\n\u001b[0m\u001b[1;32m      2\u001b[0m \u001b[0mtime2\u001b[0m \u001b[0;34m=\u001b[0m \u001b[0mTime\u001b[0m\u001b[0;34m(\u001b[0m\u001b[0;34m'2023-01-01T00:00:00'\u001b[0m\u001b[0;34m)\u001b[0m\u001b[0;34m\u001b[0m\u001b[0m\n\u001b[1;32m      3\u001b[0m \u001b[0mhomotime\u001b[0m \u001b[0;34m=\u001b[0m \u001b[0mTime\u001b[0m\u001b[0;34m(\u001b[0m\u001b[0mnp\u001b[0m\u001b[0;34m.\u001b[0m\u001b[0mlinspace\u001b[0m\u001b[0;34m(\u001b[0m\u001b[0mlow\u001b[0m\u001b[0;34m=\u001b[0m\u001b[0mtime1\u001b[0m\u001b[0;34m.\u001b[0m\u001b[0mjd\u001b[0m\u001b[0;34m,\u001b[0m \u001b[0mhigh\u001b[0m\u001b[0;34m=\u001b[0m\u001b[0mtime2\u001b[0m\u001b[0;34m.\u001b[0m\u001b[0mjd\u001b[0m\u001b[0;34m,\u001b[0m \u001b[0msize\u001b[0m\u001b[0;34m=\u001b[0m\u001b[0mlen\u001b[0m\u001b[0;34m(\u001b[0m\u001b[0mtheta\u001b[0m\u001b[0;34m)\u001b[0m\u001b[0;34m)\u001b[0m\u001b[0;34m,\u001b[0m \u001b[0mformat\u001b[0m\u001b[0;34m=\u001b[0m\u001b[0;34m\"jd\"\u001b[0m\u001b[0;34m)\u001b[0m\u001b[0;34m\u001b[0m\u001b[0m\n",
      "\u001b[0;31mNameError\u001b[0m: name 'Time' is not defined"
     ]
    }
   ],
   "source": [
    "#time1 = Time('2022-01-01T00:00:00') \n",
    "#time2 = Time('2023-01-01T00:00:00')\n",
    "#homotime = Time(np.linspace(low=time1.jd, high=time2.jd, size=len(theta)), format=\"jd\")"
   ]
  },
  {
   "cell_type": "code",
   "execution_count": 14,
   "metadata": {},
   "outputs": [
    {
     "name": "stderr",
     "output_type": "stream",
     "text": [
      "WARNING: ErfaWarning: ERFA function \"d2dtf\" yielded 1 of \"dubious year (Note 5)\" [astropy._erfa.core]\n"
     ]
    }
   ],
   "source": [
    "line0 = 'ASTROSAT' #Daksha\n",
    "line1 = '1 40930U 15052A   22302.17850942  .00000772  00000-0  19439-4 0  9990'\n",
    "line2 = '2 40930   5.9975   0.5159 0009292 339.1937  20.7998 14.76165238112787'\n",
    "line3 = '2 40930   5.9975   0.5159 0009292 339.1937 200.7998 14.76165238112787'\n",
    "\n",
    "# line0 = 'SWIFT'#BAT\n",
    "# line1 = '1 28485U 04047A   22302.18405080  .00001301  00000-0  60140-4 0  9997'\n",
    "# line2 = '2 28485  20.5572 277.8742 0011565 130.4507 229.6936 15.03911323708409'\n",
    "# line0 = 'FGRST (GLAST)'#Fermi\n",
    "# line1 = '1 33053U 08029A   22100.45970249  .00000511  00000-0  12538-4 0  9998'\n",
    "# line2 = '2 33053  25.5819 140.4060 0012690 120.1881 239.9912 15.11069703542313'\n",
    "astrosat1 = ephem.readtle(line0,line1,line2)\n",
    "astrosat2 = ephem.readtle(line0,line1,line3)\n",
    "\n",
    "alt1 = np.empty(length,dtype=object)\n",
    "alt2 = np.empty(length,dtype=object)\n",
    "sublat1 = np.empty(length,dtype = object)\n",
    "sublong1 = np.empty(length,dtype = object)\n",
    "sublat2 = np.empty(length,dtype = object)\n",
    "sublong2 = np.empty(length,dtype = object)\n",
    "for i in range(length):\n",
    "    time = (homotime[i].iso)\n",
    "    astrosat1.compute(time)\n",
    "    astrosat2.compute(time)\n",
    "    alt1[i] = astrosat1.elevation\n",
    "    alt2[i] = astrosat2.elevation\n",
    "    sublat1[i] = (astrosat1.sublat)*180/np.pi#sublat in radians\n",
    "    sublong1[i] = (astrosat1.sublong)*180/np.pi#sublong in radian\n",
    "    sublat2[i] = (astrosat2.sublat)*180/np.pi#sublat in radians\n",
    "    sublong2[i] = (astrosat2.sublong)*180/np.pi#sublong in radian"
   ]
  },
  {
   "cell_type": "code",
   "execution_count": 15,
   "metadata": {},
   "outputs": [
    {
     "data": {
      "image/png": "[encoded data removed]",
      "text/plain": [
       "<Figure size 432x288 with 1 Axes>"
      ]
     },
     "metadata": {},
     "output_type": "display_data"
    }
   ],
   "source": [
    "plt.scatter(sublong1[0:150],sublat1[0:150], marker='.', lw=0)\n",
    "plt.xlabel(\"Latitude\")\n",
    "plt.ylabel(\"Longitude\")\n",
    "plt.title(\"DAKSHA Latitude vs Longitude\")\n",
    "plt.savefig(\"DAK_latvslong.pdf\")"
   ]
  },
  {
   "cell_type": "code",
   "execution_count": null,
   "metadata": {},
   "outputs": [],
   "source": []
  },
  {
   "cell_type": "code",
   "execution_count": null,
   "metadata": {},
   "outputs": [],
   "source": []
  },
  {
   "cell_type": "code",
   "execution_count": 116,
   "metadata": {},
   "outputs": [],
   "source": []
  },
  {
   "cell_type": "code",
   "execution_count": 2,
   "metadata": {},
   "outputs": [
    {
     "ename": "NameError",
     "evalue": "name 'sublat1' is not defined",
     "output_type": "error",
     "traceback": [
      "\u001b[0;31m---------------------------------------------------------------------------\u001b[0m",
      "\u001b[0;31mNameError\u001b[0m                                 Traceback (most recent call last)",
      "\u001b[0;32m<ipython-input-2-7915db3bb82c>\u001b[0m in \u001b[0;36m<module>\u001b[0;34m()\u001b[0m\n\u001b[0;32m----> 1\u001b[0;31m \u001b[0msublat1\u001b[0m\u001b[0;34m\u001b[0m\u001b[0m\n\u001b[0m",
      "\u001b[0;31mNameError\u001b[0m: name 'sublat1' is not defined"
     ]
    }
   ],
   "source": [
    "sublat1"
   ]
  },
  {
   "cell_type": "code",
   "execution_count": 131,
   "metadata": {},
   "outputs": [
    {
     "data": {
      "text/plain": [
       "'2022-01-01 06:06:50.080'"
      ]
     },
     "execution_count": 131,
     "metadata": {},
     "output_type": "execute_result"
    }
   ],
   "source": [
    "t[150].iso"
   ]
  },
  {
   "cell_type": "code",
   "execution_count": null,
   "metadata": {},
   "outputs": [],
   "source": []
  },
  {
   "cell_type": "code",
   "execution_count": null,
   "metadata": {},
   "outputs": [],
   "source": []
  }
 ],
 "metadata": {
  "kernelspec": {
   "display_name": "Python 3",
   "language": "python",
   "name": "python3"
  },
  "language_info": {
   "codemirror_mode": {
    "name": "ipython",
    "version": 3
   },
   "file_extension": ".py",
   "mimetype": "text/x-python",
   "name": "python",
   "nbconvert_exporter": "python",
   "pygments_lexer": "ipython3",
   "version": "3.6.5"
  }
 },
 "nbformat": 4,
 "nbformat_minor": 2
}
