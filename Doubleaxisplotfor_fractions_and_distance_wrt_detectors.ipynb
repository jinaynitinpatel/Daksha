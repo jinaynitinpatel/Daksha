{
 "cells": [
  {
   "cell_type": "code",
   "execution_count": 92,
   "metadata": {},
   "outputs": [
    {
     "name": "stdout",
     "output_type": "stream",
     "text": [
      "Using matplotlib backend: MacOSX\n"
     ]
    }
   ],
   "source": [
    "import matplotlib.pyplot as plt\n",
    "%matplotlib"
   ]
  },
  {
   "cell_type": "code",
   "execution_count": 93,
   "metadata": {},
   "outputs": [],
   "source": [
    "from pylab import figure, show, legend, ylabel\n",
    " \n",
    "# create the general figure\n",
    "fig1 = figure()\n",
    " \n",
    "# and the first axes using subplot populated with data \n",
    "ax1 = fig1.add_subplot(111)\n",
    "line1 = ax1.plot([0.83,0.80,0.76], 'o-',label='fraction')\n",
    "ylabel(\"fraction of source detected by both ligo and either daksha\")\n",
    "plt.legend(bbox_to_anchor=(0.35,0.83))\n",
    "# now, the second axes that shares the x-axis with the ax1\n",
    "ax2 = fig1.add_subplot(111, sharex=ax1, frameon=False)\n",
    "line2 = ax2.plot([625,641,721], 'xr-',label='distance')\n",
    "ax2.yaxis.tick_right()\n",
    "ax2.yaxis.set_label_position(\"right\")\n",
    "ylabel(\"Max Distance detected by ligo\")\n",
    "plt.xlim(-.1,2.22) \n",
    "# for the legend, remember that we used two different axes so, we need \n",
    "# to build the legend manuallylegend\n",
    "ax1.annotate('LHV', xy=(0, 0.76), xytext=(0, 0.80),\n",
    "            arrowprops=dict(facecolor='green', shrink=0.05),)\n",
    "ax1.annotate('LHV', xy=(0, 0.83), xytext=(0, 0.80),\n",
    "            arrowprops=dict(facecolor='green', shrink=0.05),)\n",
    "ax1.annotate('LHVK', xy=(1, 0.80), xytext=(1, 0.785),\n",
    "            arrowprops=dict(facecolor='green', shrink=0.05),)\n",
    "ax1.annotate('LHVK', xy=(1, 0.773), xytext=(1, 0.785),\n",
    "            arrowprops=dict(facecolor='green', shrink=0.05),)\n",
    "ax1.annotate('LHVKI', xy=(2, 0.76), xytext=(2, 0.80),\n",
    "            arrowprops=dict(facecolor='green', shrink=0.05),)\n",
    "ax1.annotate('LHVKI', xy=(2, 0.83), xytext=(2, 0.80),\n",
    "            arrowprops=dict(facecolor='green', shrink=0.05),)\n",
    "plt.legend(bbox_to_anchor=(0.61,0.96))\n",
    "((line1, line2), (\"1\", \"2\"))\n",
    "\n",
    "show()"
   ]
  },
  {
   "cell_type": "code",
   "execution_count": null,
   "metadata": {},
   "outputs": [],
   "source": []
  },
  {
   "cell_type": "code",
   "execution_count": null,
   "metadata": {},
   "outputs": [],
   "source": []
  }
 ],
 "metadata": {
  "kernelspec": {
   "display_name": "Python 3",
   "language": "python",
   "name": "python3"
  },
  "language_info": {
   "codemirror_mode": {
    "name": "ipython",
    "version": 3
   },
   "file_extension": ".py",
   "mimetype": "text/x-python",
   "name": "python",
   "nbconvert_exporter": "python",
   "pygments_lexer": "ipython3",
   "version": "3.6.5"
  }
 },
 "nbformat": 4,
 "nbformat_minor": 2
}
