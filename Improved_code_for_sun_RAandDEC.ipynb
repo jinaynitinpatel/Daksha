{
 "cells": [
  {
   "cell_type": "code",
   "execution_count": 346,
   "metadata": {},
   "outputs": [
    {
     "name": "stdout",
     "output_type": "stream",
     "text": [
      "Using matplotlib backend: MacOSX\n",
      "220000 220000 220000\n"
     ]
    }
   ],
   "source": [
    "import scipy.io\n",
    "import numpy as np\n",
    "import scipy.optimize\n",
    "import datetime \n",
    "import ephem\n",
    "import random\n",
    "from scipy import spatial\n",
    "import matplotlib.pyplot as plt\n",
    "%matplotlib\n",
    "from astropy.table import Table\n",
    "import astropy.units as u\n",
    "import pandas as pd\n",
    "from matplotlib.backends.backend_pdf import PdfPages\n",
    "import astropy\n",
    "from astropy.time import Time\n",
    "from astropy.coordinates import EarthLocation\n",
    "import sunpy.coordinates\n",
    "from datetime import datetime, timezone\n",
    "from math import atan, atan2, degrees, floor, pi, radians, sin, sqrt\n",
    "from skyfield.api import earth, JulianDate, now, sun\n",
    "%matplotlib inline\n",
    "data=scipy.io.loadmat('BNS-sources-trial-10saleem.mat')['data'] \n",
    "#sourceparameters\n",
    "DL=data[:,0]\n",
    "theta=data[:,1]\n",
    "phi=data[:,2]\n",
    "print(len(DL),len(theta),len(phi))"
   ]
  },
  {
   "cell_type": "code",
   "execution_count": 183,
   "metadata": {},
   "outputs": [
    {
     "name": "stdout",
     "output_type": "stream",
     "text": [
      "CPU times: user 162 ms, sys: 27.9 ms, total: 190 ms\n",
      "Wall time: 187 ms\n"
     ]
    },
    {
     "name": "stderr",
     "output_type": "stream",
     "text": [
      "WARNING: ErfaWarning: ERFA function \"dtf2d\" yielded 1 of \"dubious year (Note 6)\" [astropy._erfa.core]\n",
      "WARNING: ErfaWarning: ERFA function \"utctai\" yielded 220000 of \"dubious year (Note 3)\" [astropy._erfa.core]\n"
     ]
    }
   ],
   "source": [
    "from astropy.time import Time\n",
    "time1 = Time('2022-01-01T00:00:00.123456789') # ask gaurav why\n",
    "time2 = Time('2023-01-01T00:00:00.123456789')\n",
    "#%time homotime = Time(np.linspace(time1.jd, time2.jd, len(theta)), format=\"jd\")\n",
    "%time homotime = Time(np.random.uniform(low=time1.jd, high=time2.jd, size=len(theta)), format=\"jd\").sort()"
   ]
  },
  {
   "cell_type": "code",
   "execution_count": 184,
   "metadata": {
    "scrolled": true
   },
   "outputs": [
    {
     "name": "stderr",
     "output_type": "stream",
     "text": [
      "WARNING: ErfaWarning: ERFA function \"utctai\" yielded 220000 of \"dubious year (Note 3)\" [astropy._erfa.core]\n",
      "WARNING: ErfaWarning: ERFA function \"taiutc\" yielded 220000 of \"dubious year (Note 4)\" [astropy._erfa.core]\n"
     ]
    }
   ],
   "source": [
    "sunloc = astropy.coordinates.get_sun(homotime)  #getting loaction of sun with respect to earth"
   ]
  },
  {
   "cell_type": "code",
   "execution_count": 185,
   "metadata": {},
   "outputs": [],
   "source": [
    "sunRA = sunloc.ra.deg  #sun's RA in earth's frame in degrees\n",
    "sunDEC = sunloc.dec.deg #sun's DEC in earth's frame in degrees\n",
    "sunDIST = sunloc.distance.AU*1.496e8 #sun distance from earth in km"
   ]
  },
  {
   "cell_type": "code",
   "execution_count": 187,
   "metadata": {},
   "outputs": [],
   "source": [
    "f = np.linspace(0,220000,220000)  #for plotting"
   ]
  },
  {
   "cell_type": "code",
   "execution_count": 348,
   "metadata": {},
   "outputs": [
    {
     "data": {
      "text/plain": [
       "[<matplotlib.lines.Line2D at 0x137fac00b8>]"
      ]
     },
     "execution_count": 348,
     "metadata": {},
     "output_type": "execute_result"
    },
    {
     "data": {
      "image/png": "[encoded data removed]",
      "text/plain": [
       "<Figure size 432x288 with 1 Axes>"
      ]
     },
     "metadata": {},
     "output_type": "display_data"
    }
   ],
   "source": [
    "plt.plot(f,sunDEC)  #declination of sun w.r.t earth for 1 year"
   ]
  },
  {
   "cell_type": "code",
   "execution_count": 347,
   "metadata": {
    "scrolled": true
   },
   "outputs": [
    {
     "data": {
      "text/plain": [
       "[<matplotlib.lines.Line2D at 0x1383d07780>]"
      ]
     },
     "execution_count": 347,
     "metadata": {},
     "output_type": "execute_result"
    },
    {
     "data": {
      "image/png": "[encoded data removed]",
      "text/plain": [
       "<Figure size 432x288 with 1 Axes>"
      ]
     },
     "metadata": {},
     "output_type": "display_data"
    }
   ],
   "source": [
    "plt.plot(f,sunRA)   #RA of sun w.r.t earth for 1 year"
   ]
  },
  {
   "cell_type": "code",
   "execution_count": 335,
   "metadata": {},
   "outputs": [],
   "source": [
    "def getxyz(theta,phi,n):\n",
    "    theta = np.pi/2 - theta\n",
    "    x=np.sin(theta)*np.cos(phi)\n",
    "    y=np.sin(theta)*np.sin(phi)\n",
    "    z=np.cos(theta)\n",
    "    return x,y,z\n",
    "def getnorm(vec):\n",
    "    norm = np.linalg.norm(vec)\n",
    "    #print (norm)\n",
    "    return vec/norm"
   ]
  },
  {
   "cell_type": "code",
   "execution_count": 198,
   "metadata": {},
   "outputs": [
    {
     "data": {
      "text/plain": [
       "(59580.0001222319, 2459580.500122232, '2022-01-01 00:00:10.561')"
      ]
     },
     "execution_count": 198,
     "metadata": {},
     "output_type": "execute_result"
    }
   ],
   "source": [
    "homotime.mjd[0],homotime.jd[0],homotime.iso[0]"
   ]
  },
  {
   "cell_type": "code",
   "execution_count": 218,
   "metadata": {},
   "outputs": [],
   "source": [
    "RA1 = np.empty(len(theta),dtype = object)\n",
    "DEC1 = np.empty(len(theta),dtype = object)\n",
    "satvecold = np.empty(length,dtype=object)"
   ]
  },
  {
   "cell_type": "code",
   "execution_count": 296,
   "metadata": {},
   "outputs": [],
   "source": [
    "line0 = 'ASTROSAT' #Daksha\n",
    "line1 = '1 40930U 15052A   22302.17850942  .00000772  00000-0  19439-4 0  9990'\n",
    "line2 = '2 40930   5.9975   0.5159 0009292 339.1937  20.7998 14.76165238112787'\n",
    "line3 = '2 40930   5.9975   0.5159 0009292 339.1937 200.7998 14.76165238112787'\n",
    "\n",
    "# line0 = 'SWIFT'#BAT\n",
    "# line1 = '1 28485U 04047A   22302.18405080  .00001301  00000-0  60140-4 0  9997'\n",
    "# line2 = '2 28485  20.5572 277.8742 0011565 130.4507 229.6936 15.03911323708409'\n",
    "# line0 = 'FGRST (GLAST)'#Fermi\n",
    "# line1 = '1 33053U 08029A   22100.45970249  .00000511  00000-0  12538-4 0  9998'\n",
    "# line2 = '2 33053  25.5819 140.4060 0012690 120.1881 239.9912 15.11069703542313'\n",
    "astrosat1 = ephem.readtle(line0,line1,line2)\n",
    "#astrosat2 = ephem.readtle(line0,line1,line3)\n",
    "\n",
    "sublat1 = np.empty(len(theta),dtype = object)\n",
    "sublong1 = np.empty(len(theta),dtype = object)\n",
    "#sublat2 = np.empty(len(theta),dtype = object)\n",
    "#sublong2 = np.empty(len(theta),dtype = object)\n",
    "for i in range(len(theta)):\n",
    "    time = str(homotime.iso[i])\n",
    "    astrosat1.compute(time)\n",
    "    #astrosat2.compute(time)\n",
    "    sublat1[i] = (astrosat1.sublat)#sublat in radians\n",
    "    sublong1[i] = (astrosat1.sublong)#sublong in radian\n",
    "    #sublat2[i] = (astrosat2.sublat)#sublat in radians\n",
    "    #sublong2[i] = (astrosat2.sublong)#sublong in radian\n",
    "    RA1[i] = np.rad2deg(astrosat1.ra)\n",
    "    DEC1[i] = (astrosat1.dec)\n",
    "    s = (getnorm(getxyz(astrosat1.sublat,astrosat1.sublong,1)))  #satellites coordinates, i.e 'unit' vector w.r.t earth\n",
    "    satvecold[i] = np.array([s[0]*7000,s[1]*7000,s[2]*7000])  #satellite vector"
   ]
  },
  {
   "cell_type": "code",
   "execution_count": 203,
   "metadata": {},
   "outputs": [
    {
     "data": {
      "text/plain": [
       "Text(0.5,1,'DAKSHA')"
      ]
     },
     "execution_count": 203,
     "metadata": {},
     "output_type": "execute_result"
    }
   ],
   "source": [
    "plt.plot(f[0:557],RA1[0:557],color=\"green\")\n",
    "plt.xlabel(\"1 day\",color=\"blue\")\n",
    "plt.ylabel(\"Right ascension in degree (in degree)\",color=\"blue\")\n",
    "plt.title(\"DAKSHA\",color=\"blue\")\n",
    "#plt.savefig(\"RA_satellite.pdf\")"
   ]
  },
  {
   "cell_type": "code",
   "execution_count": 205,
   "metadata": {
    "scrolled": true
   },
   "outputs": [
    {
     "data": {
      "text/plain": [
       "Text(0.5,1,'DAKSHA')"
      ]
     },
     "execution_count": 205,
     "metadata": {},
     "output_type": "execute_result"
    }
   ],
   "source": [
    "plt.plot(homotime.value[0:557],DEC1[0:557],\"green\")\n",
    "plt.xlabel(\"1 day\",color=\"blue\")\n",
    "plt.ylabel(\"Declination or Latitude (in degree)\",color=\"blue\")\n",
    "plt.title(\"DAKSHA\",color=\"blue\")\n",
    "#plt.savefig(\"Declination_satellite.pdf\")"
   ]
  },
  {
   "cell_type": "markdown",
   "metadata": {},
   "source": [
    "\n"
   ]
  },
  {
   "cell_type": "code",
   "execution_count": 214,
   "metadata": {},
   "outputs": [],
   "source": [
    "homotimeISO = homotime.iso"
   ]
  },
  {
   "cell_type": "code",
   "execution_count": 56,
   "metadata": {},
   "outputs": [],
   "source": [
    "length = 220000"
   ]
  },
  {
   "cell_type": "code",
   "execution_count": 278,
   "metadata": {},
   "outputs": [],
   "source": [
    "dt = np.empty(length,dtype=object)\n",
    "for i in range(0,length):\n",
    "    temp = homotimeISO[i]\n",
    "    year = int(temp[0:4])\n",
    "    month = int(temp[5:7])\n",
    "    day = int(temp[8:10])\n",
    "    hour = int(temp[11:13])\n",
    "    minu = int(temp[14:16])\n",
    "    secs = int(temp[17:19])\n",
    "    dt[i] = datetime(year,month,day,hour,minu,secs)"
   ]
  },
  {
   "cell_type": "code",
   "execution_count": 334,
   "metadata": {},
   "outputs": [
    {
     "name": "stderr",
     "output_type": "stream",
     "text": [
      "/anaconda3/lib/python3.6/site-packages/skyfield/relativity.py:127: RuntimeWarning: divide by zero encountered in true_divide\n",
      "  qhat = pq / qmag\n",
      "/anaconda3/lib/python3.6/site-packages/skyfield/relativity.py:127: RuntimeWarning: invalid value encountered in true_divide\n",
      "  qhat = pq / qmag\n"
     ]
    }
   ],
   "source": [
    "positionSUN = -1*earth(JulianDate(utc=dt)).observe(sun).apparent().position.km"
   ]
  },
  {
   "cell_type": "code",
   "execution_count": null,
   "metadata": {},
   "outputs": [],
   "source": []
  },
  {
   "cell_type": "code",
   "execution_count": null,
   "metadata": {},
   "outputs": [],
   "source": []
  },
  {
   "cell_type": "markdown",
   "metadata": {},
   "source": [
    "## SUN"
   ]
  },
  {
   "cell_type": "code",
   "execution_count": 294,
   "metadata": {},
   "outputs": [
    {
     "data": {
      "text/plain": [
       "' year = int(temp[0:4])\\n    month = int(temp[5:7])\\n    day = int(temp[8:10])\\n    hour = int(temp[11:13])\\n    minu = int(temp[14:16])\\n    secs = int(temp[17:19])'"
      ]
     },
     "execution_count": 294,
     "metadata": {},
     "output_type": "execute_result"
    }
   ],
   "source": [
    "x = np.empty(length-1,dtype=object)\n",
    "y = np.empty(length-1,dtype=object)\n",
    "z = np.empty(length-1,dtype=object)\n",
    "xaxis = np.empty(length-1,dtype=object)\n",
    "\n",
    "for i in range(0,length-1):\n",
    "    #time0 = datetime.datetime(2000, 1, 1, 12, 0, 0)\n",
    "    #time = datetime(2022, 1, 1, tzinfo=timezone.utc)\n",
    "    x[i]=positionSUN[0][i]\n",
    "    y[i]=positionSUN[1][i]\n",
    "    z[i]=positionSUN[2][i]\n",
    "    x1 = positionSUN[0][i+1]\n",
    "    y1 = positionSUN[1][i+1]\n",
    "    z1 = positionSUN[2][i+1]\n",
    "    xaxis[i] = x1-x[i],y1-y[i],z1-z[i]\n",
    "    "
   ]
  },
  {
   "cell_type": "code",
   "execution_count": 297,
   "metadata": {},
   "outputs": [],
   "source": [
    "sunsat = np.empty(length,dtype=object)\n",
    "for i in range(0,length-1):\n",
    "    sunsat[i] = x[i]+satvecold[i][0],y[i]+satvecold[i][1],z[i]+satvecold[i][2]"
   ]
  },
  {
   "cell_type": "code",
   "execution_count": 298,
   "metadata": {},
   "outputs": [],
   "source": [
    "decsun = np.empty(length,dtype=object)\n",
    "for i in range(0,length-1):\n",
    "    norm1 = (x[i]**2+y[i]**2+z[i]**2)**0.5\n",
    "    norm2 = (sunsat[i][0]**2+sunsat[i][1]**2+sunsat[i][2]**2)**0.5\n",
    "    decsun[i] = np.arccos((x[i]*sunsat[i][0]+y[i]*sunsat[i][1]+z[i]*sunsat[i][2])/(norm1*norm2))*180/np.pi"
   ]
  },
  {
   "cell_type": "code",
   "execution_count": 330,
   "metadata": {},
   "outputs": [
    {
     "data": {
      "text/plain": [
       "Text(0,0.5,'DEC in degrees')"
      ]
     },
     "execution_count": 330,
     "metadata": {},
     "output_type": "execute_result"
    }
   ],
   "source": [
    "plt.plot(f[0:length-1],decsun[0:length-1])\n",
    "plt.xticks([0,50000,110000,160000,219999],['Jan','Mar','Jun','Sep','Dec'])\n",
    "#plt.xticks([0,100,200,300,400,500,610],['00:00','04:11','07:35','11:34','15:00','19:22','23:52'])\n",
    "plt.title(\"Daksha's DEC w.r.t sun\")\n",
    "plt.xlabel(\"1 Year(time)\")\n",
    "plt.ylabel(\"DEC in degrees\")\n",
    "#plt.savefig(\"DEC_Dakshawrtsunforoneday.pdf\")"
   ]
  },
  {
   "cell_type": "code",
   "execution_count": 331,
   "metadata": {},
   "outputs": [
    {
     "name": "stderr",
     "output_type": "stream",
     "text": [
      "/anaconda3/lib/python3.6/site-packages/ipykernel_launcher.py:8: RuntimeWarning: invalid value encountered in double_scalars\n",
      "  \n"
     ]
    }
   ],
   "source": [
    "projsunsatonxy = np.empty(length,dtype=object)\n",
    "rightascension = np.empty(length,dtype=object)\n",
    "for i in range(0,length-1):\n",
    "    sindel = np.sin(decsun[i]*np.pi/180)\n",
    "    projsunsatonxy[i] = sindel*sunsat[i][0],sindel*sunsat[i][1],sindel*sunsat[i][2]\n",
    "    norm1 = (projsunsatonxy[i][0]**2+projsunsatonxy[i][1]**2+projsunsatonxy[i][2])**0.5\n",
    "    norm2 = (xaxis[i][0]**2+xaxis[i][1]**2+xaxis[i][2]**2)**0.5\n",
    "    rightascension[i] = np.arcsin((projsunsatonxy[i][0]*xaxis[i][0]+projsunsatonxy[i][1]*xaxis[i][1]+projsunsatonxy[i][2]*xaxis[i][2])/(norm1*norm2))*180/np.pi"
   ]
  },
  {
   "cell_type": "code",
   "execution_count": 332,
   "metadata": {},
   "outputs": [
    {
     "data": {
      "text/plain": [
       "Text(0,0.5,'RA in degrees')"
      ]
     },
     "execution_count": 332,
     "metadata": {},
     "output_type": "execute_result"
    }
   ],
   "source": [
    "plt.plot(f[0:length-1],rightascension[0:length-1])\n",
    "plt.title(\"Daksha's RA w.r.t sun\")\n",
    "#plt.xticks([0,100,200,300,400,500,610],['00:00','04:11','07:35','11:34','15:00','19:22','23:52'])\n",
    "plt.xlabel(\"1 Day(time)\")\n",
    "plt.ylabel(\"RA in degrees\")\n",
    "#plt.savefig(\"RA_Dakshawrtsunforoneday.pdf\")"
   ]
  },
  {
   "cell_type": "code",
   "execution_count": 311,
   "metadata": {},
   "outputs": [],
   "source": [
    "def function(theta,x):\n",
    "    return x-np.sin(theta)"
   ]
  },
  {
   "cell_type": "code",
   "execution_count": 327,
   "metadata": {},
   "outputs": [
    {
     "name": "stderr",
     "output_type": "stream",
     "text": [
      "/anaconda3/lib/python3.6/site-packages/ipykernel_launcher.py:6: RuntimeWarning: invalid value encountered in double_scalars\n",
      "  \n",
      "/anaconda3/lib/python3.6/site-packages/scipy/optimize/minpack.py:163: RuntimeWarning: The iteration is not making good progress, as measured by the \n",
      "  improvement from the last ten iterations.\n",
      "  warnings.warn(msg, RuntimeWarning)\n"
     ]
    }
   ],
   "source": [
    "angle = np.empty(length,dtype=object)\n",
    "guess = 0\n",
    "for i in range(length-1):\n",
    "    norm1 = (projsunsatonxy[i][0]**2+projsunsatonxy[i][1]**2+projsunsatonxy[i][2])**0.5\n",
    "    norm2 = (xaxis[i][0]**2+xaxis[i][1]**2+xaxis[i][2]**2)**0.5\n",
    "    x = (projsunsatonxy[i][0]*xaxis[i][0]+projsunsatonxy[i][1]*xaxis[i][1]+projsunsatonxy[i][2]*xaxis[i][2])/(norm1*norm2)\n",
    "    #if x>1:\n",
    "    #   x=1\n",
    "    angle[i] = scipy.optimize.fsolve(function,guess,args=x)[0]*180/np.pi\n",
    "    guess += np.pi/120000"
   ]
  },
  {
   "cell_type": "code",
   "execution_count": 326,
   "metadata": {},
   "outputs": [],
   "source": [
    "plt.plot(f[0:length-1],angle[0:length-1])\n",
    "plt.title(\"Daksha's RA w.r.t sun\")\n",
    "plt.xlabel(\"1 year\")\n",
    "plt.ylabel(\"RA in degrees\")\n",
    "plt.savefig(\"RA_dakshawrtsun.pdf\")"
   ]
  },
  {
   "cell_type": "code",
   "execution_count": 345,
   "metadata": {},
   "outputs": [
    {
     "data": {
      "text/plain": [
       "[<matplotlib.lines.Line2D at 0x1383c59b38>]"
      ]
     },
     "execution_count": 345,
     "metadata": {},
     "output_type": "execute_result"
    }
   ],
   "source": [
    "plt.plot(f[0:557],(RA1)[0:557])"
   ]
  },
  {
   "cell_type": "code",
   "execution_count": null,
   "metadata": {},
   "outputs": [],
   "source": []
  }
 ],
 "metadata": {
  "kernelspec": {
   "display_name": "Python 3",
   "language": "python",
   "name": "python3"
  },
  "language_info": {
   "codemirror_mode": {
    "name": "ipython",
    "version": 3
   },
   "file_extension": ".py",
   "mimetype": "text/x-python",
   "name": "python",
   "nbconvert_exporter": "python",
   "pygments_lexer": "ipython3",
   "version": "3.6.5"
  }
 },
 "nbformat": 4,
 "nbformat_minor": 2
}
