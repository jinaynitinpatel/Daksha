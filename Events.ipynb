{
 "cells": [
  {
   "cell_type": "code",
   "execution_count": 1,
   "metadata": {},
   "outputs": [
    {
     "name": "stdout",
     "output_type": "stream",
     "text": [
      "Using matplotlib backend: MacOSX\n"
     ]
    }
   ],
   "source": [
    "import scipy.io\n",
    "import numpy as np\n",
    "import datetime \n",
    "import ephem\n",
    "import random\n",
    "from scipy import spatial\n",
    "import matplotlib.pyplot as plt\n",
    "%matplotlib\n",
    "from astropy.table import Table\n",
    "import astropy.units as u\n",
    "import pandas as pd\n",
    "from matplotlib.backends.backend_pdf import PdfPages\n",
    "import astropy\n",
    "from astropy.time import Time\n",
    "from astropy.coordinates import EarthLocation\n",
    "import sunpy.coordinates\n",
    "from datetime import datetime, timezone\n",
    "from math import atan, atan2, degrees, floor, pi, radians, sin, sqrt\n",
    "from skyfield.api import earth, JulianDate, now, sun\n",
    "data=scipy.io.loadmat('BNS-sources-trial-10saleem.mat')['data'] \n",
    "#sourceparameters\n",
    "DL=data[:,0]\n",
    "theta=data[:,1]\n",
    "phi=data[:,2]"
   ]
  },
  {
   "cell_type": "code",
   "execution_count": 2,
   "metadata": {},
   "outputs": [],
   "source": [
    "lat = np.pi/2 - theta\n",
    "long = phi"
   ]
  },
  {
   "cell_type": "code",
   "execution_count": 3,
   "metadata": {},
   "outputs": [
    {
     "name": "stderr",
     "output_type": "stream",
     "text": [
      "WARNING: ErfaWarning: ERFA function \"dtf2d\" yielded 1 of \"dubious year (Note 6)\" [astropy._erfa.core]\n"
     ]
    }
   ],
   "source": [
    "from astropy.time import Time\n",
    "time1 = Time('2022-01-01T00:00:00') \n",
    "time2 = Time('2023-01-01T00:00:00')\n",
    "#%time homotime = Time(np.linspace(time1.jd, time2.jd, len(theta)), format=\"jd\")\n",
    "randomtime = Time(np.random.uniform(low=time1.jd, high=time2.jd, size=len(theta)), format=\"jd\")"
   ]
  },
  {
   "cell_type": "code",
   "execution_count": 18,
   "metadata": {},
   "outputs": [
    {
     "name": "stdout",
     "output_type": "stream",
     "text": [
      "355\n",
      "10\n"
     ]
    }
   ],
   "source": [
    "#print(-5 %360)\n",
    "#print(370 % 360)"
   ]
  },
  {
   "cell_type": "code",
   "execution_count": 4,
   "metadata": {},
   "outputs": [],
   "source": [
    "def radectolatlong(Ra,Dec,time): #input in degrees\n",
    "    \"\"\"\n",
    "    Take the RA, Dec of GW trigger from the table and convert them to  longitude, latitude\n",
    "    RA, Dec should be floating point numbers (not astropy.coordinates)\n",
    "    time should be a astropy.Time.time object\n",
    "    Output is in floating point numbers (not astropy.quantity or astropy.coordinates)\n",
    "    \"\"\"\n",
    "    ra = np.deg2rad(Ra)\n",
    "    dec = np.deg2rad(Dec)\n",
    "    time_sid = (time.sidereal_time('mean','greenwich')).rad\n",
    "    lat = dec\n",
    "    long = ra - time_sid \n",
    "    Lat = np.rad2deg(lat) %360\n",
    "    Long = np.rad2deg(long)\n",
    "    return Lat,Long #output in degrees\n",
    "\n",
    "def latlongtoradec(Lat,Long,time): #input in degrees\n",
    "    lat = np.deg2rad(Lat)\n",
    "    long = np.deg2rad(Long)\n",
    "    time_sid = (time.sidereal_time('mean','greenwich')).rad\n",
    "    DEC = lat\n",
    "    RA = long + time_sid\n",
    "    ra = np.rad2deg(RA) %360     \n",
    "    dec = np.rad2deg(DEC)\n",
    "    return ra,dec #output in degree\n",
    "\n",
    "def getxyz(theta,phi):\n",
    "    \"\"\"\n",
    "    Convert cartesian coordinates into theta phi for ANY FRAME OF REFERENCE\n",
    "    Theta ranges from blah to blah, and is a floating point number in RADIANS\n",
    "    Phi ranges from blah to blah, and is a floating point number in RADIANS\n",
    "    X,y z are floating point numbers - and make a unit vector\n",
    "    \"\"\"\n",
    "    assert theta.unit == u.rad, \"This function needs astropy.units.radians as input\"\n",
    "    #if n==1:\n",
    "        #lat, long\n",
    "    theta = np.pi/2 - theta\n",
    "    x=np.sin(theta)*np.cos(phi)\n",
    "    y=np.sin(theta)*np.sin(phi)\n",
    "    z=np.cos(theta)\n",
    "    return x,y,z\n",
    "def getnorm(vec):\n",
    "    norm = np.linalg.norm(vec)\n",
    "    #print (norm)\n",
    "    return vec/norm"
   ]
  },
  {
   "cell_type": "code",
   "execution_count": 23,
   "metadata": {},
   "outputs": [
    {
     "data": {
      "text/plain": [
       "(<Quantity 1.>, <Quantity 1.>)"
      ]
     },
     "execution_count": 23,
     "metadata": {},
     "output_type": "execute_result"
    }
   ],
   "source": [
    "np.sin(90 * u.deg), np.sin(np.pi/2 * u.rad)"
   ]
  },
  {
   "cell_type": "code",
   "execution_count": 5,
   "metadata": {},
   "outputs": [],
   "source": [
    "import pandas as pd"
   ]
  },
  {
   "cell_type": "code",
   "execution_count": 6,
   "metadata": {},
   "outputs": [],
   "source": [
    "RAs = np.empty(len(theta),dtype=object)\n",
    "DECs = np.empty(len(theta),dtype=object)\n",
    "times = np.empty(len(theta),dtype=object)"
   ]
  },
  {
   "cell_type": "code",
   "execution_count": 7,
   "metadata": {},
   "outputs": [
    {
     "name": "stderr",
     "output_type": "stream",
     "text": [
      "WARNING: ErfaWarning: ERFA function \"utcut1\" yielded 1 of \"dubious year (Note 3)\" [astropy._erfa.core]\n",
      "WARNING: ErfaWarning: ERFA function \"utctai\" yielded 1 of \"dubious year (Note 3)\" [astropy._erfa.core]\n"
     ]
    }
   ],
   "source": [
    "for i in range(0,len(theta)):\n",
    "    LLRD = latlongtoradec(lat[i],long[i],randomtime[i])\n",
    "    RAs[i] = LLRD[0]\n",
    "    DECs[i] = LLRD[1]\n",
    "    times[i] = randomtime[i]"
   ]
  },
  {
   "cell_type": "code",
   "execution_count": 8,
   "metadata": {},
   "outputs": [
    {
     "name": "stderr",
     "output_type": "stream",
     "text": [
      "WARNING: ErfaWarning: ERFA function \"d2dtf\" yielded 220000 of \"dubious year (Note 5)\" [astropy._erfa.core]\n"
     ]
    }
   ],
   "source": [
    "df = pd.DataFrame(RAs,columns={\"RA in hour angle\"})\n",
    "df['DEC in degree'] = pd.DataFrame(DECs)\n",
    "df['Time in isot'] = pd.DataFrame(randomtime.isot)\n",
    "df['Time in jd'] = pd.DataFrame(randomtime.jd)"
   ]
  },
  {
   "cell_type": "code",
   "execution_count": 9,
   "metadata": {},
   "outputs": [],
   "source": [
    "df.to_csv('/Users/jinaypatel/Desktop/Daksha/Events(triggers).csv', sep=',', encoding='utf-8')"
   ]
  },
  {
   "cell_type": "code",
   "execution_count": 10,
   "metadata": {},
   "outputs": [],
   "source": [
    "df['lat'] = pd.DataFrame(lat)\n",
    "df['long'] = pd.DataFrame(long)"
   ]
  },
  {
   "cell_type": "code",
   "execution_count": 11,
   "metadata": {},
   "outputs": [],
   "source": [
    "homotime = np.sort(randomtime.isot)"
   ]
  },
  {
   "cell_type": "code",
   "execution_count": 12,
   "metadata": {},
   "outputs": [
    {
     "data": {
      "text/plain": [
       "(327.14985403573723, 0.0)"
      ]
     },
     "execution_count": 12,
     "metadata": {},
     "output_type": "execute_result"
    }
   ],
   "source": [
    "latlongtoradec(0,0,Time('2019-03-20T09:58:00'))"
   ]
  },
  {
   "cell_type": "code",
   "execution_count": 13,
   "metadata": {},
   "outputs": [
    {
     "name": "stderr",
     "output_type": "stream",
     "text": [
      "WARNING: ErfaWarning: ERFA function \"d2dtf\" yielded 220000 of \"dubious year (Note 5)\" [astropy._erfa.core]\n"
     ]
    },
    {
     "data": {
      "text/plain": [
       "'2022-12-06 18:26:24.558'"
      ]
     },
     "execution_count": 13,
     "metadata": {},
     "output_type": "execute_result"
    }
   ],
   "source": [
    "randomtime.iso[0]"
   ]
  },
  {
   "cell_type": "code",
   "execution_count": 14,
   "metadata": {},
   "outputs": [
    {
     "data": {
      "text/plain": [
       "3.794467313623034"
      ]
     },
     "execution_count": 14,
     "metadata": {},
     "output_type": "execute_result"
    }
   ],
   "source": [
    "Time('2019-04-15T00:58:00').sidereal_time('mean','greenwich').rad"
   ]
  },
  {
   "cell_type": "code",
   "execution_count": 15,
   "metadata": {},
   "outputs": [
    {
     "data": {
      "text/plain": [
       "(0.0, -100.45967831899189)"
      ]
     },
     "execution_count": 15,
     "metadata": {},
     "output_type": "execute_result"
    }
   ],
   "source": [
    "radectolatlong(0,0,Time('2019-03-20T18:49:47'))"
   ]
  },
  {
   "cell_type": "code",
   "execution_count": null,
   "metadata": {},
   "outputs": [],
   "source": []
  },
  {
   "cell_type": "code",
   "execution_count": null,
   "metadata": {},
   "outputs": [],
   "source": []
  }
 ],
 "metadata": {
  "kernelspec": {
   "display_name": "Python 3",
   "language": "python",
   "name": "python3"
  },
  "language_info": {
   "codemirror_mode": {
    "name": "ipython",
    "version": 3
   },
   "file_extension": ".py",
   "mimetype": "text/x-python",
   "name": "python",
   "nbconvert_exporter": "python",
   "pygments_lexer": "ipython3",
   "version": "3.6.5"
  }
 },
 "nbformat": 4,
 "nbformat_minor": 2
}
