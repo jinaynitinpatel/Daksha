{
 "cells": [
  {
   "cell_type": "code",
   "execution_count": 1,
   "metadata": {},
   "outputs": [
    {
     "name": "stdout",
     "output_type": "stream",
     "text": [
      "Using matplotlib backend: MacOSX\n"
     ]
    }
   ],
   "source": [
    "import scipy.io\n",
    "import pylab\n",
    "import numpy as np\n",
    "import datetime \n",
    "import ephem\n",
    "import random\n",
    "from scipy import spatial\n",
    "import matplotlib.pyplot as plt\n",
    "%matplotlib \n",
    "from astropy.table import Table\n",
    "from astropy import units as unit\n",
    "from astropy.coordinates import SkyCoord\n",
    "import pandas as pd\n",
    "from matplotlib.backends.backend_pdf import PdfPages\n",
    "import astropy\n",
    "import astropy.constants as const\n",
    "from astropy.time import Time\n",
    "from astropy.coordinates import EarthLocation\n",
    "import sunpy.coordinates\n",
    "from datetime import datetime, timezone\n",
    "from math import atan, atan2, degrees, floor, pi, radians, sin, sqrt\n",
    "from skyfield.api import earth, JulianDate, now, sun\n",
    "data=scipy.io.loadmat('BNS-sources-trial-10saleem.mat')['data'] \n",
    "#sourceparameters\n",
    "DL=data[:,0]\n",
    "theta=data[:,1]\n",
    "phi=data[:,2]"
   ]
  },
  {
   "cell_type": "code",
   "execution_count": 2,
   "metadata": {},
   "outputs": [],
   "source": [
    "num = 220000\n",
    "radius = const.R_earth.to(unit.m)  #Radius of earth in m\n",
    "earth_rad = radius.value\n",
    "lat = np.rad2deg(np.pi/2 - theta)\n",
    "long = np.rad2deg(phi)\n"
   ]
  },
  {
   "cell_type": "code",
   "execution_count": 3,
   "metadata": {},
   "outputs": [],
   "source": [
    "distance = DL*unit.Mpc"
   ]
  },
  {
   "cell_type": "code",
   "execution_count": 4,
   "metadata": {},
   "outputs": [
    {
     "data": {
      "text/plain": [
       "(array([1.50828927, 1.3218442 , 4.88369119, ..., 0.14711676, 1.92059118,\n",
       "        3.73704228]),\n",
       " array([2.05597716, 0.7623997 , 3.94531224, ..., 0.87258219, 1.87887723,\n",
       "        3.17437839]),\n",
       " array([2.60109925, 2.01527692, 6.56372816, ..., 2.09722166, 3.03471228,\n",
       "        5.1190831 ]),\n",
       " array([2.9615534 , 2.05214273, 7.23216427, ..., 2.10021926, 3.04157166,\n",
       "        5.57032074]),\n",
       " array([2.80024108, 2.33763304, 7.55768521, ..., 2.6656951 , 3.20978535,\n",
       "        5.91029335]))"
      ]
     },
     "execution_count": 4,
     "metadata": {},
     "output_type": "execute_result"
    }
   ],
   "source": [
    "#snr at each detector\n",
    "snrH=data[:,5]\n",
    "snrL=data[:,6]\n",
    "snrV=data[:,7]\n",
    "snrK=data[:,8]\n",
    "snrI=data[:,9]\n",
    "#or for networks of 5 and 3 detectors, one can use directly,\n",
    "snrLHVKI=np.sqrt(data[:,5]**2 + data[:,6]**2 + data[:,7]**2 +data[:,8]**2 + data[:,9]**2)  \n",
    "# SNR at LHVKI\n",
    "snrLHV=np.sqrt(data[:,5]**2 + data[:,6]**2 + data[:,7]**2 )  # LHV*\n",
    "snrLHVK = np.sqrt(data[:,5]**2 + data[:,6]**2 + data[:,7]**2 + data[:,8]**2)\n",
    "snrLHVI = np.sqrt(data[:,5]**2 + data[:,6]**2 + data[:,7]**2 + data[:,9]**2)\n",
    "snrH, snrL, snrLHV,snrLHVK, snrLHVI"
   ]
  },
  {
   "cell_type": "code",
   "execution_count": 5,
   "metadata": {},
   "outputs": [],
   "source": [
    "def radectolatlong(Ra,Dec,time): #input in degrees\n",
    "    \n",
    "    \"\"\"\n",
    "    Take the RA, Dec of GW trigger from the table and convert them to  longitude, latitude\n",
    "    RA, Dec should be floating point numbers (not astropy.coordinates)\n",
    "    time should be a astropy.Time.time object\n",
    "    Output is in floating point numbers (not astropy.quantity or astropy.coordinates)\n",
    "    \"\"\"\n",
    "    ra = np.deg2rad(Ra)\n",
    "    dec = np.deg2rad(Dec)\n",
    "    time_sid = (time.sidereal_time('apparent','greenwich')).rad\n",
    "    lat = dec\n",
    "    long = ra - time_sid \n",
    "    return lat,long #output in radians\n",
    "\n",
    "def latlongtoradec(Lat,Long,time): #input in degrees\n",
    "    \"\"\"\n",
    "    Take the Lat, Long of GW trigger from the saleem's table and convert them to  RA and DEC.\n",
    "    \"\"\"\n",
    "    Lat = np.deg2rad(Lat)\n",
    "    Long = np.deg2rad(Long)\n",
    "    time_sid = (time.sidereal_time('apparent','greenwich')).rad\n",
    "    \n",
    "    DEC = Lat\n",
    "    RA = Long + time_sid\n",
    "    ra = np.rad2deg(RA) % 360  \n",
    "    dec = np.rad2deg(DEC)\n",
    "    return ra,dec #output in degree\n",
    "\n",
    "def is_saa(lat, longi):\n",
    "    \"\"\"Return whether the satellite is in South Atlantic Anamoly or not.\n",
    "    Hard bounds used from the data of RXTE and assumed that the SAA region is rectangular below the inclination of RXTE.\n",
    "    \n",
    "    ra - right ascention of the body in degrees\n",
    "    dec - declination of the body in degrees\n",
    "    time - UTC time in datetime format\n",
    "    \"\"\"\n",
    "    # lat, longi = radec2latlong(ra, dec, time)\n",
    "    #lat, longi = eci_ecef(ra, dec, time)\n",
    "    lat = np.rad2deg(lat)\n",
    "    longi = np.rad2deg(longi)\n",
    "    if -23< lat <= -7 and -90<=longi<=-10:\n",
    "        return True\n",
    "    \n",
    "#     if -90<=longi<=-10:\n",
    "#         y = 7*longi/80 + 23/8\n",
    "#         if lat < y:\n",
    "#             return True\n",
    "    if -100<=longi<=-35:\n",
    "        y=14*longi/65+189/13\n",
    "        if lat<=y:\n",
    "            return True\n",
    "    \n",
    "    if -35<longi<-10:\n",
    "        y=-14/25*longi-63/5\n",
    "        if lat<y:\n",
    "            return True\n",
    "    \n",
    "    \n",
    "    if -10<=longi<=40:\n",
    "        z = -9*longi/25 -43/5\n",
    "        if lat<z: \n",
    "            return True\n",
    "\t\n",
    "\n",
    "    if -50<= lat <=-23 and -90<=longi<=40:\n",
    "        return True\n",
    "    else: return False \n",
    "\n",
    "def getxyz(theta,phi):\n",
    "    \"\"\"\n",
    "    Convert cartesian coordinates into theta phi for ANY FRAME OF REFERENCE\n",
    "    Theta ranges from 0 to pi i.e angle from z-axis axis, and is a floating point number in RADIANS\n",
    "    Phi ranges from 0 to 2*pi, and is a floating point number in RADIANS\n",
    "    x,y z are floating point numbers - and make a unit vector\n",
    "    \"\"\"\n",
    "    theta = np.pi/2 - theta\n",
    "    x=np.sin(theta)*np.cos(phi)\n",
    "    y=np.sin(theta)*np.sin(phi)\n",
    "    z=np.cos(theta)\n",
    "    return x,y,z\n",
    "def getnorm(vec):\n",
    "    \"\"\"\n",
    "    Takes in the vector and get its norm and returns unit vector\n",
    "    \"\"\"\n",
    "    norm = np.linalg.norm(vec)\n",
    "    #print (norm)\n",
    "    return vec/norm"
   ]
  },
  {
   "cell_type": "code",
   "execution_count": null,
   "metadata": {},
   "outputs": [],
   "source": []
  },
  {
   "cell_type": "code",
   "execution_count": 6,
   "metadata": {},
   "outputs": [
    {
     "data": {
      "text/plain": [
       "'\\nsource_ra and source_dec are for removing the unnecessary index in ra and dec.\\n'"
      ]
     },
     "execution_count": 6,
     "metadata": {},
     "output_type": "execute_result"
    }
   ],
   "source": [
    "df = pd.read_csv('/Users/jinaypatel/Desktop/Daksha/Events(triggers).csv')\n",
    "t1 = df.sort_values(by=['Time in isot'])\n",
    "t2 = t1.reset_index(drop=True)   #resetting the index \n",
    "ra = t2['RA in degree']   #in degree\n",
    "dec = t2['DEC in degree']\n",
    "ht = t2['Time in jd']\n",
    "homotime = Time(ht,format='jd')\n",
    "source_ra = np.empty(num,dtype=float)\n",
    "source_dec = np.empty(num,dtype=float)\n",
    "\n",
    "for i in range(num):\n",
    "    source_ra[i] = ra[i]\n",
    "    source_dec[i] = dec[i]\n",
    "    \n",
    "\"\"\"\n",
    "source_ra and source_dec are for removing the unnecessary index in ra and dec.\n",
    "\"\"\""
   ]
  },
  {
   "cell_type": "code",
   "execution_count": 7,
   "metadata": {},
   "outputs": [
    {
     "name": "stderr",
     "output_type": "stream",
     "text": [
      "WARNING: ErfaWarning: ERFA function \"d2dtf\" yielded 220000 of \"dubious year (Note 5)\" [astropy._erfa.core]\n"
     ]
    }
   ],
   "source": [
    "#time1 = Time('2022-01-01T00:00:00') \n",
    "#time2 = Time('2023-01-01T00:00:00')\n",
    "#homotime = Time(np.random.uniform(low=time1.jd, high=time2.jd, size=len(theta)), format=\"jd\").sort()\n",
    "#\"\"\"\n",
    "#homotime gives random but uniform sorted time in jd format.\n",
    "#\"\"\"\n",
    "\"\"\"Converting homotime to iso format.\"\"\"\n",
    "time_iso = homotime.iso"
   ]
  },
  {
   "cell_type": "code",
   "execution_count": 8,
   "metadata": {},
   "outputs": [
    {
     "name": "stderr",
     "output_type": "stream",
     "text": [
      "WARNING: ErfaWarning: ERFA function \"utctai\" yielded 220000 of \"dubious year (Note 3)\" [astropy._erfa.core]\n",
      "WARNING: ErfaWarning: ERFA function \"taiutc\" yielded 220000 of \"dubious year (Note 4)\" [astropy._erfa.core]\n"
     ]
    }
   ],
   "source": [
    "sunloc = astropy.coordinates.get_sun(homotime)   # Gives the sun's location "
   ]
  },
  {
   "cell_type": "code",
   "execution_count": 9,
   "metadata": {},
   "outputs": [],
   "source": [
    "sunRA = sunloc.ra.deg  #sun's RA in earth's frame in degrees\n",
    "sunDEC = sunloc.dec.deg #sun's DEC in earth's frame in degrees\n",
    "sunDIST = sunloc.distance.AU*1.496e11 #sun distance from earth in m"
   ]
  },
  {
   "cell_type": "code",
   "execution_count": 10,
   "metadata": {},
   "outputs": [],
   "source": [
    "\"\"\"\n",
    "Given below is the TLE format data for the satellite, i.e Astrosat. \n",
    "sublat and sublong are the latitude and longitude of the satellite at any instant.\n",
    "alt1 and alt2 are altitude of sat above the earth's surface.\n",
    "\"\"\"\n",
    "line0 = 'ASTROSAT' #Daksha\n",
    "line1 = '1 40930U 15052A   22302.17850942  .00000772  00000-0  19439-4 0  9990'\n",
    "line2 = '2 40930   5.9975   0.5159 0009292 339.1937  20.7998 14.76165238112787'\n",
    "line3 = '2 40930   5.9975   0.5159 0009292 339.1937 200.7998 14.76165238112787'\n",
    "sublat1 = np.empty(num,dtype=np.float)  \n",
    "sublong1 = np.empty(num,dtype=np.float)  \n",
    "sublat2 = np.empty(num,dtype=np.float)  \n",
    "sublong2 = np.empty(num,dtype=np.float)\n",
    "\n",
    "\"\"\"earth_ra and earth_dec are ra and dec of earth in refrence frame of satellite.\"\"\"\n",
    "\n",
    "earth_ra = np.empty(num,dtype=np.float)\n",
    "earth_dec = np.empty(num,dtype=np.float)\n",
    "elevation = np.empty(num,dtype=np.float)  # its elevation of 1st daksha satellite\n",
    "\n",
    "# line0 = 'SWIFT'#BAT\n",
    "# line1 = '1 28485U 04047A   22302.18405080  .00001301  00000-0  60140-4 0  9997'\n",
    "# line2 = '2 28485  20.5572 277.8742 0011565 130.4507 229.6936 15.03911323708409'\n",
    "# line0 = 'FGRST (GLAST)'#Fermi\n",
    "# line1 = '1 33053U 08029A   22100.45970249  .00000511  00000-0  12538-4 0  9998'\n",
    "# line2 = '2 33053  25.5819 140.4060 0012690 120.1881 239.9912 15.11069703542313'\n",
    "astrosat1 = ephem.readtle(line0,line1,line2)\n",
    "astrosat2 = ephem.readtle(line0,line1,line3)\n",
    "\n",
    "for i in range(num):\n",
    "    time = time_iso[i]\n",
    "    astrosat1.compute(time)\n",
    "    astrosat2.compute(time)\n",
    "    sublat1[i] = (astrosat1.sublat)          #sublat in radians\n",
    "    sublong1[i] = (astrosat1.sublong)        #sublong in radian\n",
    "    sublat2[i] = (astrosat2.sublat)          #sublat in radians\n",
    "    sublong2[i] = (astrosat2.sublong)\n",
    "    earth_ra[i] = (np.rad2deg(astrosat1.g_ra) + 180 ) % 360\n",
    "    earth_dec[i] = - np.rad2deg(astrosat1.g_dec)\n",
    "    elevation[i] = astrosat1.elevation"
   ]
  },
  {
   "cell_type": "code",
   "execution_count": 11,
   "metadata": {},
   "outputs": [],
   "source": [
    "\"\"\"Satellite RA and DEC\"\"\"\n",
    "sat_ra = (sunRA+180) % 360  #RA is in degrees\n",
    "sat_dec = -sunDEC   #DEC is in degrees"
   ]
  },
  {
   "cell_type": "code",
   "execution_count": 12,
   "metadata": {},
   "outputs": [],
   "source": [
    "\"\"\"\n",
    "Distance is 1 m as we can get unit vector.\n",
    "c and event are the SkyCoord object for the satellite and the sources, respectively.\n",
    "sv is the vector from sun to earth/satellite in ICRS frame. \n",
    "Similarly, trig is the vector from earth/satellite to source.\n",
    "\"\"\"\n",
    "c = SkyCoord(ra=sat_ra*unit.degree, dec=sat_dec*unit.degree, distance=1*unit.m,frame='gcrs')\n",
    "sv = np.transpose(np.array([c.cartesian.x.value, c.cartesian.y.value, c.cartesian.z.value]))\n",
    "\n",
    "event = SkyCoord(ra=source_ra*unit.degree,dec=source_dec*unit.degree,distance=1*unit.m,frame='gcrs')\n",
    "trig = np.transpose(np.array([event.cartesian.x.value, event.cartesian.y.value, event.cartesian.z.value]))"
   ]
  },
  {
   "cell_type": "code",
   "execution_count": 13,
   "metadata": {},
   "outputs": [],
   "source": [
    "\"\"\"\n",
    "Define random luminosity of sources b/w 10^-7 and 10^-6. \"\"\"\n",
    "lumino = 10**np.random.uniform(-7, -6, num) * (DL / 200.)**2\n"
   ]
  },
  {
   "cell_type": "code",
   "execution_count": 14,
   "metadata": {},
   "outputs": [],
   "source": [
    "def is_visible(homotime, trig_ra, trig_dec, satephem):\n",
    "    \"\"\"\n",
    "    Check for the visibility of source, i.e whethear the source is block by earth or not.\n",
    "    eclipse angle is the minimum a1ngle below which the source(trigger) will not be seen from satellite frame.\n",
    "    earth_ra and earth_dec are ra and dec of earth in refrence frame of satellite.\n",
    "    trig_ra and trig_dec are ra and dec of trigger.\n",
    "    And the ra and dec of trig will be same in both frames, i.e in satellite and earth as they are too far away.\n",
    "    sep is the angular distance between trig and esrth in satellite frame.\n",
    "    satephem.g_ra and satephem.g_dec return angle in radians.\n",
    "    \"\"\"\n",
    "    time = homotime.iso\n",
    "    satephem.compute(time)\n",
    "    eclipse_angle = np.arcsin(const.R_earth.to(unit.m).value/(const.R_earth.to(unit.m).value+satephem.elevation))*unit.rad\n",
    "    earth_ra = (np.rad2deg(satephem.g_ra) + 180 ) % 360\n",
    "    earth_dec = - np.rad2deg(satephem.g_dec)\n",
    "    c1 = SkyCoord(earth_ra*unit.deg,earth_dec*unit.deg,frame='gcrs')\n",
    "    c2 = SkyCoord(trig_ra*unit.deg,trig_dec*unit.deg,frame='gcrs')\n",
    "    sep = c1.separation(c2)\n",
    "    if sep.value > eclipse_angle.to(unit.deg).value:    # to() function is used here to convert rad to deg.\n",
    "        return True\n",
    "    else:  \n",
    "        return False"
   ]
  },
  {
   "cell_type": "code",
   "execution_count": 15,
   "metadata": {},
   "outputs": [
    {
     "data": {
      "text/plain": [
       "-89.81381370704906"
      ]
     },
     "execution_count": 15,
     "metadata": {},
     "output_type": "execute_result"
    }
   ],
   "source": [
    "min(source_dec)"
   ]
  },
  {
   "cell_type": "code",
   "execution_count": 16,
   "metadata": {},
   "outputs": [],
   "source": [
    "def transform_antisun(astrosat):   \n",
    "    \"\"\"Transforming coordinate system to satellite's frame for anti-sun orbit. \n",
    "zaxis is the axis from sun to earth and is equal to sv which unit vector.\n",
    "satvecold is the unit vector from earth to satellite. This unit vector when intersect with satellite, \n",
    "the coordinates of that point will be the distance from center of earth times the unit vector.\n",
    "(satx,saty,satz) are coordinate of the above described point. Now the equation of plane which is perpendicular\n",
    "to the sv vector is given by sv[0]*(x-satx) + sv[1](y-saty) + sv[2](z-satz) = 0. \n",
    "(This is a plane with normal vector sv and contain the point [satx,saty,satz] on it).\n",
    "The intersection of this plane with the equatorial plane i.e z=0 gives the line sv[0]*(x-satx) + sv[1](y-saty) = 0.\n",
    "i.e. sv[0]*x + sv[1]*y = sv[0]*satx + sv[1]*saty.\n",
    "\n",
    "trigvec is the trigger unit vector. yprojtrig and xprojtrig are the the projection vector on x-y plane in satellite\n",
    "coordinate frame and are used to determine the theta and phi of source.\n",
    "theta is angle from z-axis and phi is angle in xy-plane from x-axis.\n",
    "\"\"\"\n",
    "    thetatransarray = np.empty(num,dtype=float)\n",
    "    phitransarray = np.empty(num,dtype=float)\n",
    "    for i in range(len(theta)):\n",
    "        if i%(int((num)/10))==0:print(int(i*100/(num)), '% completed', end='\\r')\n",
    "        zaxis = sv[i]\n",
    "        #xaxis = getnorm(np.cross(zaxis,satvecold))\n",
    "        taninv = np.arctan(sv[i][0]/sv[i][1])\n",
    "        xaxis = [-np.cos(taninv),np.sin(taninv),0]\n",
    "        yaxis = getnorm(np.cross(zaxis,xaxis))\n",
    "        trigvec = trig[i]\n",
    "\n",
    "        thetatrans = np.arccos(np.dot(trigvec,zaxis))\n",
    "        yprojtrig = np.linalg.norm(trigvec)*np.dot(trigvec,yaxis)\n",
    "        xprojtrig = np.linalg.norm(trigvec)*np.dot(trigvec,xaxis)\n",
    "        phitrans = np.arctan2(yprojtrig, xprojtrig)\n",
    "        thetatransarray[i] = thetatrans\n",
    "        phitransarray[i] = phitrans\n",
    "    return thetatransarray,phitransarray\n",
    "\n",
    "#theta1_antisun,phi1_antisun = transform_antisun(astrosat1)\n",
    "#theta2_antisun,phi2_antisun = transform_antisun(astrosat2)"
   ]
  },
  {
   "cell_type": "code",
   "execution_count": null,
   "metadata": {},
   "outputs": [],
   "source": []
  },
  {
   "cell_type": "markdown",
   "metadata": {},
   "source": [
    "## Test cases using 3D plots"
   ]
  },
  {
   "cell_type": "code",
   "execution_count": null,
   "metadata": {},
   "outputs": [],
   "source": []
  },
  {
   "cell_type": "code",
   "execution_count": 17,
   "metadata": {},
   "outputs": [],
   "source": [
    "\"\"\"\n",
    "to obtain the cartesian coordinate of earth in the satellite frame.\"\"\"\n",
    "\"\"\"\n",
    "It gives the position of earth w.r.t satellite. Returns the position in cartesian coordinates.\"\"\"\n",
    "def earthpos_wrtsat(time,satephem):\n",
    "    t = time.iso\n",
    "    satephem.compute(t)\n",
    "    earth_ra = (np.rad2deg(satephem.g_ra) + 180 ) % 360\n",
    "    earth_dec = - np.rad2deg(satephem.g_dec)\n",
    "    cart = SkyCoord(ra = earth_ra*unit.deg, dec = earth_dec*unit.deg,frame='gcrs')\n",
    "    return cart.cartesian.x.value,cart.cartesian.y.value,cart.cartesian.z.value"
   ]
  },
  {
   "cell_type": "code",
   "execution_count": 18,
   "metadata": {},
   "outputs": [
    {
     "name": "stderr",
     "output_type": "stream",
     "text": [
      "WARNING: ErfaWarning: ERFA function \"d2dtf\" yielded 1 of \"dubious year (Note 5)\" [astropy._erfa.core]\n"
     ]
    },
    {
     "data": {
      "text/plain": [
       "True"
      ]
     },
     "execution_count": 18,
     "metadata": {},
     "output_type": "execute_result"
    }
   ],
   "source": [
    "\"\"\"\n",
    "used for plotting the 3D plot.\"\"\"\n",
    "\"\"\"n is the nth source. d is used to find the cartesian coordinates of source w.r.t earth or satellite as the \n",
    "source is too far away.\"\"\"\n",
    "n=213467\n",
    "\n",
    "taninv = np.arctan(sv[n][0]/sv[n][1])\n",
    "satx = getnorm([-np.cos(taninv),np.sin(taninv),0])\n",
    "satz = sv[n]\n",
    "saty = getnorm(np.cross(satz,satx))\n",
    "d = SkyCoord(ra=source_ra[n]*unit.degree,dec=source_dec[n]*unit.degree,distance=1*unit.m)\n",
    "trigvec = [d.cartesian.x.value, d.cartesian.y.value, d.cartesian.z.value]\n",
    "earthvec = earthpos_wrtsat(homotime[n],astrosat1)\n",
    "is_visible(homotime[n], source_ra[n], source_dec[n], astrosat1)"
   ]
  },
  {
   "cell_type": "code",
   "execution_count": 51,
   "metadata": {},
   "outputs": [
    {
     "name": "stdout",
     "output_type": "stream",
     "text": [
      "Using matplotlib backend: MacOSX\n"
     ]
    }
   ],
   "source": [
    "from mpl_toolkits.mplot3d import Axes3D\n",
    "import matplotlib.pyplot as plt\n",
    "%matplotlib \n",
    "import numpy as np\n",
    "from itertools import product, combinations\n",
    "\n",
    "\n",
    "fig = plt.figure()\n",
    "ax = fig.gca(projection='3d')\n",
    "ax.set_aspect(\"equal\")\n",
    "\n",
    "# draw cube\n",
    "r = [-0.05, 0.05]\n",
    "for s, e in combinations(np.array(list(product(r, r, r))), 2):\n",
    "    if np.sum(np.abs(s-e)) == r[1]-r[0]:\n",
    "        ax.plot3D(*zip(s, e), color=\"r\")\n",
    "\n",
    "#earth\n",
    "u, v = np.mgrid[0:2*np.pi:200j, 0:np.pi:200j]\n",
    "scale=0.75\n",
    "x = scale*np.cos(u)*np.sin(v) + earthvec[0]\n",
    "y = scale*np.sin(u)*np.sin(v) + earthvec[1]\n",
    "z = scale*np.cos(v) + earthvec[2]\n",
    "ax.plot_wireframe(x, y, z, color=\"b\")\n",
    "\n",
    "\n",
    "# draw a point\n",
    "ax.scatter([0], [0], [0], color=\"g\", s=100)\n",
    "ax.scatter(1.5*trigvec[0],1.5*trigvec[1],1.5*trigvec[2],color='black',s=10)\n",
    "\n",
    "# draw a vector\n",
    "from matplotlib.patches import FancyArrowPatch\n",
    "from mpl_toolkits.mplot3d import proj3d\n",
    "\n",
    "\n",
    "class Arrow3D(FancyArrowPatch):\n",
    "\n",
    "    def __init__(self, xs, ys, zs, *args, **kwargs):\n",
    "        FancyArrowPatch.__init__(self, (0, 0), (0, 0), *args, **kwargs)\n",
    "        self._verts3d = xs, ys, zs\n",
    "\n",
    "    def draw(self, renderer):\n",
    "        xs3d, ys3d, zs3d = self._verts3d\n",
    "        xs, ys, zs = proj3d.proj_transform(xs3d, ys3d, zs3d, renderer.M)\n",
    "        self.set_positions((xs[0], ys[0]), (xs[1], ys[1]))\n",
    "        FancyArrowPatch.draw(self, renderer)\n",
    "s1 = Arrow3D([0,2*trigvec[0]],[0,2*trigvec[1]],[0,2*trigvec[2]], mutation_scale=20,\n",
    "            lw=1, arrowstyle=\"-|>\", color=\"k\")\n",
    "\n",
    "e = Arrow3D([0,earthvec[0]],[0,earthvec[1]],[0,earthvec[2]], mutation_scale=20,\n",
    "            lw=1, arrowstyle=\"-|>\", color=\"k\")\n",
    "sun = Arrow3D([0,-2*satz[0]],[0,-2*satz[1]],[0,-2*satz[2]], mutation_scale=20,\n",
    "            lw=1, arrowstyle=\"-|>\", color=\"k\")\n",
    "\n",
    "ax.quiver(0,0,0, satx[0], satx[1], satx[2] , color='blue')\n",
    "ax.quiver(0,0,0, saty[0], saty[1], saty[2], color='green')\n",
    "ax.quiver(0,0,0, satz[0],satz[1],satz[2], color='red')\n",
    "ax.text3D(satx[0], satx[1], satx[2] , 'X')\n",
    "ax.text3D(saty[0], saty[1], saty[2], 'Y')\n",
    "ax.text3D(satz[0],satz[1],satz[2], 'Z')\n",
    "ax.text3D(1.5*trigvec[0], 1.5*trigvec[1], 1.5*trigvec[2] , 'Source')\n",
    "ax.text3D(-2*satz[0],-2*satz[1],-2*satz[2], 'Sun')\n",
    "ax.text3D(earthvec[0],earthvec[1],earthvec[2], 'Earth')\n",
    "ax.set_xlim(-1, 1)\n",
    "ax.set_ylim(-1, 1)\n",
    "ax.set_zlim(-1, 1)\n",
    "ax.add_artist(e)\n",
    "ax.add_artist(s1)\n",
    "ax.add_artist(sun)\n",
    "plt.show()\n"
   ]
  },
  {
   "cell_type": "code",
   "execution_count": 31,
   "metadata": {},
   "outputs": [
    {
     "data": {
      "text/plain": [
       "(-0.6378536082441154, 0.2766437173084801, 0.7187565847515474)"
      ]
     },
     "execution_count": 31,
     "metadata": {},
     "output_type": "execute_result"
    }
   ],
   "source": [
    "trigvec[0],trigvec[1],trigvec[2\n",
    "                             ]"
   ]
  },
  {
   "cell_type": "markdown",
   "metadata": {},
   "source": [
    "### Sensitivity Part"
   ]
  },
  {
   "cell_type": "code",
   "execution_count": 19,
   "metadata": {},
   "outputs": [],
   "source": [
    "sensfile = np.loadtxt('/Users/jinaypatel/Desktop/Daksha/sensitivity_20det.csv', delimiter=',',skiprows=1)"
   ]
  },
  {
   "cell_type": "code",
   "execution_count": 21,
   "metadata": {},
   "outputs": [
    {
     "name": "stdout",
     "output_type": "stream",
     "text": [
      "90 % completed\r"
     ]
    }
   ],
   "source": [
    "\"\"\"\n",
    "thetadeg1, thetadeg2, phideg1 and phideg2 are the angles in degree.\n",
    "theta1 is from 0 to np.pi rad and phi1 is from 0 to 2*np.pi rad.\n",
    "thetadeg1 is from 0 to 180 deg and phideg1 is from 0 to 360 deg.\"\"\"\n",
    "\n",
    "theta1,phi1 = transform_antisun(astrosat1)   \n",
    "#theta2,phi2 = transform_antisun(astrosat2)\n",
    "thetadeg1 = np.rad2deg(theta1) \n",
    "#thetadeg2 = np.rad2deg(theta2)\n",
    "phideg1 = np.rad2deg(phi1 % 2*np.pi)\n",
    "#phideg2 = np.rad2deg(phi2)\n",
    "newphi = phi1 % np.pi"
   ]
  },
  {
   "cell_type": "code",
   "execution_count": null,
   "metadata": {},
   "outputs": [],
   "source": [
    "\"\"\"sensarray = np.empty(len(sensfile),dtype=float)\n",
    "sensitivitydata1 = np.empty(num,dtype=float)\n",
    "#sensitivitydata2 = []\n",
    "sensfilethetaphi = []\n",
    "for i in range(len(sensfile)):\n",
    "    sensfilethetaphi.append((sensfile[i][0], sensfile[i][1]))\n",
    "    sensarray[i] = sensfile[i][3]\"\"\""
   ]
  },
  {
   "cell_type": "code",
   "execution_count": 74,
   "metadata": {},
   "outputs": [
    {
     "data": {
      "text/plain": [
       "\"sens_source1 = SkyCoord(phideg1*unit.deg,(thetadeg1-90)*unit.deg,frame='gcrs')\\n#sens_source2 = SkyCoord(dec=(theta2-np.pi/2)*unit.rad,ra = phi2*unit.rad,distance=1*unit.m,frame='gcrs')\\nsens_sat = SkyCoord(np.transpose(sensfilethetaphi)[1]*unit.rad,(np.transpose(sensfilethetaphi)[0]-np.pi/2)*unit.rad,frame='gcrs')\\nnearest1 = astropy.coordinates.match_coordinates_sky(sens_source1, sens_sat, nthneighbor=1, storekdtree='kdtree_sky')[0]\\n#nearest2 = astropy.coordinates.match_coordinates_sky(sens_source2, sens_sat, nthneighbor=1, storekdtree='kdtree_sky')[0]\""
      ]
     },
     "execution_count": 74,
     "metadata": {},
     "output_type": "execute_result"
    }
   ],
   "source": [
    "\"\"\"\n",
    "sens_source1 is the SkyCoord class for the theta-phi calculated from the code and sens_sat is the SkyCoord class \n",
    "for previously calculated theta-phi from the projection areas.\n",
    "nearest gives the index of the nearest theta-phi in the given theta-phi file.\"\"\"\n",
    "\n",
    "\"\"\"sens_source1 = SkyCoord(phideg1*unit.deg,(thetadeg1-90)*unit.deg,frame='gcrs')\n",
    "#sens_source2 = SkyCoord(dec=(theta2-np.pi/2)*unit.rad,ra = phi2*unit.rad,distance=1*unit.m,frame='gcrs')\n",
    "sens_sat = SkyCoord(np.transpose(sensfilethetaphi)[1]*unit.rad,(np.transpose(sensfilethetaphi)[0]-np.pi/2)*unit.rad,frame='gcrs')\n",
    "nearest1 = astropy.coordinates.match_coordinates_sky(sens_source1, sens_sat, nthneighbor=1, storekdtree='kdtree_sky')[0]\n",
    "#nearest2 = astropy.coordinates.match_coordinates_sky(sens_source2, sens_sat, nthneighbor=1, storekdtree='kdtree_sky')[0]\"\"\""
   ]
  },
  {
   "cell_type": "code",
   "execution_count": 44,
   "metadata": {},
   "outputs": [],
   "source": [
    "matchcoord = SkyCoord(phideg1*unit.degree,(thetadeg1-90)*unit.degree)\n",
    "catalogcoord = SkyCoord(np.rad2deg(np.transpose(sensfilethetaphi)[1])*unit.degree,(np.rad2deg(np.transpose(sensfilethetaphi)[0]-np.pi/2))*unit.degree)\n",
    "        "
   ]
  },
  {
   "cell_type": "code",
   "execution_count": 62,
   "metadata": {},
   "outputs": [],
   "source": [
    "index = astropy.coordinates.match_coordinates_sky(matchcoord, catalogcoord, nthneighbor=1, storekdtree='kdtree_sky')[0]"
   ]
  },
  {
   "cell_type": "code",
   "execution_count": 72,
   "metadata": {},
   "outputs": [],
   "source": [
    "#index[2],np.deg2rad(phideg1[2]),np.deg2rad((thetadeg1)[2]),(np.transpose(sensfilethetaphi)[1])[830]"
   ]
  },
  {
   "cell_type": "code",
   "execution_count": 58,
   "metadata": {},
   "outputs": [],
   "source": [
    "sensitivitydata1 = []\n",
    "sensitivitydata2 = []\n",
    "sensfilethetaphi = []\n",
    "for i in range(len(sensfile)):\n",
    "    sensfilethetaphi.append((sensfile[i][0], sensfile[i][1]))\n",
    "    "
   ]
  },
  {
   "cell_type": "code",
   "execution_count": 67,
   "metadata": {},
   "outputs": [],
   "source": [
    "for i in range(len(theta)):\n",
    "    sensitivitydata1.append(sensfile[index[i]][3])\n"
   ]
  },
  {
   "cell_type": "code",
   "execution_count": 69,
   "metadata": {},
   "outputs": [],
   "source": [
    "for k in range(len(sensitivitydata1)):\n",
    "    if np.isnan(sensitivitydata1[k])==True:\n",
    "        sensitivitydata1[k] = 0\n",
    "        \n",
    "sensdatabackup1 = sensitivitydata1"
   ]
  },
  {
   "cell_type": "code",
   "execution_count": null,
   "metadata": {},
   "outputs": [],
   "source": []
  },
  {
   "cell_type": "code",
   "execution_count": null,
   "metadata": {},
   "outputs": [],
   "source": []
  }
 ],
 "metadata": {
  "kernelspec": {
   "display_name": "Python 3",
   "language": "python",
   "name": "python3"
  },
  "language_info": {
   "codemirror_mode": {
    "name": "ipython",
    "version": 3
   },
   "file_extension": ".py",
   "mimetype": "text/x-python",
   "name": "python",
   "nbconvert_exporter": "python",
   "pygments_lexer": "ipython3",
   "version": "3.6.5"
  }
 },
 "nbformat": 4,
 "nbformat_minor": 2
}
