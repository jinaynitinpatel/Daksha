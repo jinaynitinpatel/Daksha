{
 "cells": [
  {
   "cell_type": "code",
   "execution_count": 330,
   "metadata": {},
   "outputs": [
    {
     "name": "stdout",
     "output_type": "stream",
     "text": [
      "Using matplotlib backend: MacOSX\n"
     ]
    }
   ],
   "source": [
    "import scipy.io\n",
    "import numpy as np\n",
    "import datetime \n",
    "import ephem\n",
    "import random\n",
    "from scipy import spatial\n",
    "import matplotlib.pyplot as plt\n",
    "%matplotlib\n",
    "from astropy.table import Table\n",
    "import astropy.units as u\n",
    "import pandas as pd\n",
    "from matplotlib.backends.backend_pdf import PdfPages\n",
    "import astropy\n",
    "from astropy.time import Time\n",
    "from astropy.coordinates import EarthLocation\n",
    "import sunpy.coordinates\n",
    "from datetime import datetime, timezone\n",
    "from math import atan, atan2, degrees, floor, pi, radians, sin, sqrt\n",
    "from skyfield.api import earth, JulianDate, now, sun\n",
    "data=scipy.io.loadmat('BNS-sources-trial-10saleem.mat')['data'] \n",
    "#sourceparameters\n",
    "DL=data[:,0]\n",
    "theta=data[:,1]\n",
    "phi=data[:,2]"
   ]
  },
  {
   "cell_type": "code",
   "execution_count": 249,
   "metadata": {},
   "outputs": [],
   "source": [
    "length = 600"
   ]
  },
  {
   "cell_type": "code",
   "execution_count": 540,
   "metadata": {},
   "outputs": [],
   "source": [
    "def radectolatlong(Ra,Dec,time): #input in degrees\n",
    "    ra = np.deg2rad(Ra)\n",
    "    dec = np.deg2rad(Dec)\n",
    "    time_sid = (time.sidereal_time('apparent','greenwich')).rad\n",
    "    Lat = dec\n",
    "    Long = ra - time_sid \n",
    "    \n",
    "    if Long<0:\n",
    "        Long+=360\n",
    "    return Lat,Long #output in degrees\n",
    "\n",
    "def latlongtoradec(Lat,Long,time): #input in radians\n",
    "    #lat = np.deg2rad(Lat)\n",
    "    #long = np.deg2rad(Long)\n",
    "    time_sid = (time.sidereal_time('apparent','greenwich')).rad\n",
    "    \n",
    "    DEC = Lat\n",
    "    RA = Long + time_sid\n",
    "    ra = np.rad2deg(RA)            \n",
    "    if ra>360:\n",
    "        ra-=360               \n",
    "    elif ra<0:\n",
    "        ra+=360\n",
    "    dec = np.rad2deg(DEC)\n",
    "    return ra,dec #output in degree\n",
    "\n",
    "\n",
    "def getxyz(theta,phi):\n",
    "    #if n==1:\n",
    "        #lat, long\n",
    "    theta = np.pi/2 - theta\n",
    "    x=np.sin(theta)*np.cos(phi)\n",
    "    y=np.sin(theta)*np.sin(phi)\n",
    "    z=np.cos(theta)\n",
    "    return x,y,z\n",
    "def getnorm(vec):\n",
    "    norm = np.linalg.norm(vec)\n",
    "    #print (norm)\n",
    "    return vec/norm"
   ]
  },
  {
   "cell_type": "code",
   "execution_count": 450,
   "metadata": {},
   "outputs": [],
   "source": [
    "df = pd.read_csv('/Users/jinaypatel/Desktop/Daksha/Events(triggers).csv')"
   ]
  },
  {
   "cell_type": "code",
   "execution_count": 451,
   "metadata": {},
   "outputs": [],
   "source": [
    "time = df.sort_values(by=['Time in jd'])\n",
    "t = time['Time in jd']\n",
    "homotime = Time(t,format='jd')"
   ]
  },
  {
   "cell_type": "code",
   "execution_count": 452,
   "metadata": {},
   "outputs": [
    {
     "name": "stderr",
     "output_type": "stream",
     "text": [
      "WARNING: ErfaWarning: ERFA function \"utctai\" yielded 220000 of \"dubious year (Note 3)\" [astropy._erfa.core]\n",
      "WARNING: ErfaWarning: ERFA function \"taiutc\" yielded 220000 of \"dubious year (Note 4)\" [astropy._erfa.core]\n"
     ]
    }
   ],
   "source": [
    "sunloc = astropy.coordinates.get_sun(homotime)"
   ]
  },
  {
   "cell_type": "code",
   "execution_count": null,
   "metadata": {},
   "outputs": [],
   "source": []
  },
  {
   "cell_type": "code",
   "execution_count": 499,
   "metadata": {},
   "outputs": [],
   "source": [
    "sunRA = sunloc.ra.deg  #sun's RA in earth's frame in degrees\n",
    "sunDEC = sunloc.dec.deg #sun's DEC in earth's frame in degrees\n",
    "sunDIST = sunloc.distance.AU*1.496e11 #sun distance from earth in m"
   ]
  },
  {
   "cell_type": "code",
   "execution_count": 468,
   "metadata": {},
   "outputs": [
    {
     "name": "stderr",
     "output_type": "stream",
     "text": [
      "WARNING: ErfaWarning: ERFA function \"utcut1\" yielded 1 of \"dubious year (Note 3)\" [astropy._erfa.core]\n",
      "WARNING: ErfaWarning: ERFA function \"utctai\" yielded 1 of \"dubious year (Note 3)\" [astropy._erfa.core]\n"
     ]
    }
   ],
   "source": [
    "sunLat = np.empty(length,dtype=object)\n",
    "sunLong = np.empty(length,dtype=object)\n",
    "for i in range(length):\n",
    "    x = radectolatlong(sunRA[i],sunDEC[i],homotime[i])\n",
    "    sunLat[i] = x[0]\n",
    "    sunLong[i] = x[1]"
   ]
  },
  {
   "cell_type": "code",
   "execution_count": 455,
   "metadata": {},
   "outputs": [
    {
     "data": {
      "text/plain": [
       "[<matplotlib.lines.Line2D at 0xb487f3eb8>]"
      ]
     },
     "execution_count": 455,
     "metadata": {},
     "output_type": "execute_result"
    }
   ],
   "source": [
    "plt.plot(sunDEC[0:length],sunRA[0:length])"
   ]
  },
  {
   "cell_type": "code",
   "execution_count": null,
   "metadata": {},
   "outputs": [],
   "source": []
  },
  {
   "cell_type": "code",
   "execution_count": 462,
   "metadata": {},
   "outputs": [
    {
     "data": {
      "text/plain": [
       "Text(0.5,1,'Sun Long for approx 1 day')"
      ]
     },
     "execution_count": 462,
     "metadata": {},
     "output_type": "execute_result"
    }
   ],
   "source": [
    "plt.plot(homotime[0:length].value,sunLong[0:length])\n",
    "plt.xlabel(\"Time\")\n",
    "plt.ylabel(\"Sun's Longitude (degrees)\")\n",
    "plt.title(\"Sun Long for approx 1 day\")\n",
    "#plt.savefig(\"sunlong1day.pdf\")"
   ]
  },
  {
   "cell_type": "code",
   "execution_count": 474,
   "metadata": {},
   "outputs": [
    {
     "name": "stderr",
     "output_type": "stream",
     "text": [
      "WARNING: ErfaWarning: ERFA function \"d2dtf\" yielded 1 of \"dubious year (Note 5)\" [astropy._erfa.core]\n"
     ]
    }
   ],
   "source": [
    "line0 = 'ASTROSAT' #Daksha\n",
    "line1 = '1 40930U 15052A   22302.17850942  .00000772  00000-0  19439-4 0  9990'\n",
    "line2 = '2 40930   5.9975   0.5159 0009292 339.1937  20.7998 14.76165238112787'\n",
    "line3 = '2 40930   5.9975   0.5159 0009292 339.1937 200.7998 14.76165238112787'\n",
    "\n",
    "# line0 = 'SWIFT'#BAT\n",
    "# line1 = '1 28485U 04047A   22302.18405080  .00001301  00000-0  60140-4 0  9997'\n",
    "# line2 = '2 28485  20.5572 277.8742 0011565 130.4507 229.6936 15.03911323708409'\n",
    "# line0 = 'FGRST (GLAST)'#Fermi\n",
    "# line1 = '1 33053U 08029A   22100.45970249  .00000511  00000-0  12538-4 0  9998'\n",
    "# line2 = '2 33053  25.5819 140.4060 0012690 120.1881 239.9912 15.11069703542313'\n",
    "astrosat1 = ephem.readtle(line0,line1,line2)\n",
    "astrosat2 = ephem.readtle(line0,line1,line3)\n",
    "Radius = 6400000 #radius of earth in m\n",
    "alt1 = np.empty(length,dtype=object)\n",
    "alt2 = np.empty(length,dtype=object)\n",
    "sublat1 = np.empty(length,dtype = object)\n",
    "sublong1 = np.empty(length,dtype = object)\n",
    "sublat2 = np.empty(length,dtype = object)\n",
    "sublong2 = np.empty(length,dtype = object)\n",
    "for i in range(length):\n",
    "    time = (homotime[i].iso)\n",
    "    astrosat1.compute(time)\n",
    "    astrosat2.compute(time)\n",
    "    alt1[i] = astrosat1.elevation\n",
    "    alt2[i] = astrosat2.elevation\n",
    "    sublat1[i] = (astrosat1.sublat)          #sublat in radians\n",
    "    sublong1[i] = (astrosat1.sublong)        #sublong in radian\n",
    "    sublat2[i] = (astrosat2.sublat)          #sublat in radians"
   ]
  },
  {
   "cell_type": "code",
   "execution_count": null,
   "metadata": {},
   "outputs": [],
   "source": []
  },
  {
   "cell_type": "code",
   "execution_count": 541,
   "metadata": {},
   "outputs": [],
   "source": [
    "satunit1 = np.empty(length,dtype=object)\n",
    "sununit = np.empty(length,dtype=object)\n",
    "zaxis = np.empty(length,dtype=object)\n",
    "sunsat = np.empty(length,dtype=object)\n",
    "#yaxis = np.empty(length,dtype=object)\n",
    "satvecold = np.empty(length,dtype=object)\n",
    "for i in range(length-1):\n",
    "    satunit1[i] = getxyz(sublat1[i],sublong1[i])\n",
    "    sununit[i] = getxyz(sunLat[i],sunLong[i])    #earth to sun vector\n",
    "    zaxis[i] = np.array([sununit[i][0]*sunDIST[i],sununit[i][1]*sunDIST[i],sununit[i][2]*sunDIST[i]])\n",
    "    #sununitplus = getxyz(sunLat[i+1],sunLong[i+1])\n",
    "    #xtemp = getnorm([sununitplus[0]-sununit[i][0],sununitplus[1]-sununit[i][1],sununitplus[1]-sununit[i][1]])\n",
    "    #yaxis = np.array(getnorm(np.cross(zaxis[i],xtemp)))\n",
    "    #xaxis = np.array(getnorm(np.cross(yaxis,zaxis[i])))\n",
    "    #for satellite\n",
    "    #time = str(homotime[i].iso)\n",
    "    #astrosat1.compute(time)\n",
    "    s = (getnorm(getxyz(sublat1[i],sublong1[i])))\n",
    "    satvecold[i] = np.array([s[0]*(alt1[i]+Radius),s[1]*(alt1[i]+Radius),s[2]*(alt1[i]+Radius)])\n",
    "    sunsat[i] = getnorm(satvecold[i] - zaxis[i])   #sun to satellite vector in earth's frame"
   ]
  },
  {
   "cell_type": "code",
   "execution_count": null,
   "metadata": {},
   "outputs": [],
   "source": []
  },
  {
   "cell_type": "code",
   "execution_count": 542,
   "metadata": {},
   "outputs": [
    {
     "name": "stderr",
     "output_type": "stream",
     "text": [
      "WARNING: ErfaWarning: ERFA function \"utcut1\" yielded 1 of \"dubious year (Note 3)\" [astropy._erfa.core]\n",
      "WARNING: ErfaWarning: ERFA function \"utctai\" yielded 1 of \"dubious year (Note 3)\" [astropy._erfa.core]\n"
     ]
    }
   ],
   "source": [
    "sunsatx = np.empty(length,dtype=object)\n",
    "sunsaty = np.empty(length,dtype=object)\n",
    "sunsatz = np.empty(length,dtype=object)\n",
    "norm = np.empty(length,dtype=object)\n",
    "thetasat = np.empty(length,dtype=object)\n",
    "phisat = np.empty(length,dtype=object)\n",
    "latvec = np.empty(length,dtype=object)\n",
    "lonvec = np.empty(length,dtype=object)\n",
    "Ra = np.empty(length,dtype=object)\n",
    "Dec = np.empty(length,dtype=object)\n",
    "for i in range(length-1): \n",
    "    sunsatx[i] = sunsat[i][0]\n",
    "    sunsaty[i] = sunsat[i][1]\n",
    "    sunsatz[i] = sunsat[i][2]\n",
    "    #norm[i] = (sunsatx[i]**2 + sunsaty[i]**2 + sunsatz[i]**2)**0.5\n",
    "    thetasat[i] = np.arccos((sunsatz[i]))\n",
    "    sunsatprojxynorm = (sunsatx[i]**2 + sunsaty[i]**2 )**0.5\n",
    "    phisat[i] = np.arccos((sunsatx[i])/(sunsatprojxynorm))\n",
    "    latvec[i] = np.pi/2 - thetasat[i]\n",
    "    lonvec[i] = phisat[i]\n",
    "    b = latlongtoradec(latvec[i],lonvec[i],homotime[i])\n",
    "    Ra[i] = b[0]  # in deg\n",
    "    Dec[i] = b[1]  # in deg"
   ]
  },
  {
   "cell_type": "code",
   "execution_count": null,
   "metadata": {},
   "outputs": [],
   "source": []
  },
  {
   "cell_type": "code",
   "execution_count": null,
   "metadata": {},
   "outputs": [],
   "source": []
  },
  {
   "cell_type": "code",
   "execution_count": null,
   "metadata": {},
   "outputs": [],
   "source": []
  },
  {
   "cell_type": "code",
   "execution_count": 543,
   "metadata": {},
   "outputs": [
    {
     "data": {
      "text/plain": [
       "[<matplotlib.lines.Line2D at 0xb48619860>]"
      ]
     },
     "execution_count": 543,
     "metadata": {},
     "output_type": "execute_result"
    }
   ],
   "source": [
    "plt.plot(homotime.value[0:600],Ra[0:600])"
   ]
  },
  {
   "cell_type": "code",
   "execution_count": 524,
   "metadata": {},
   "outputs": [],
   "source": [
    "import datetime"
   ]
  },
  {
   "cell_type": "code",
   "execution_count": null,
   "metadata": {},
   "outputs": [],
   "source": []
  }
 ],
 "metadata": {
  "kernelspec": {
   "display_name": "Python 3",
   "language": "python",
   "name": "python3"
  },
  "language_info": {
   "codemirror_mode": {
    "name": "ipython",
    "version": 3
   },
   "file_extension": ".py",
   "mimetype": "text/x-python",
   "name": "python",
   "nbconvert_exporter": "python",
   "pygments_lexer": "ipython3",
   "version": "3.6.5"
  }
 },
 "nbformat": 4,
 "nbformat_minor": 2
}
