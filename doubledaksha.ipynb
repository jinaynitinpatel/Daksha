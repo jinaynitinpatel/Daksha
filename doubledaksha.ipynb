{
 "cells": [
  {
   "cell_type": "code",
   "execution_count": 2,
   "metadata": {},
   "outputs": [
    {
     "name": "stdout",
     "output_type": "stream",
     "text": [
      "Using matplotlib backend: MacOSX\n",
      "220000 220000 220000\n"
     ]
    }
   ],
   "source": [
    "import scipy.io\n",
    "import numpy as np\n",
    "import datetime \n",
    "import ephem\n",
    "import random\n",
    "from scipy import spatial\n",
    "import matplotlib.pyplot as plt\n",
    "%matplotlib\n",
    "from astropy.table import Table\n",
    "import pandas as pd\n",
    "\n",
    "data=scipy.io.loadmat('BNS-sources-trial-10saleem.mat')['data'] \n",
    "#sourceparameters\n",
    "DL=data[:,0]\n",
    "theta=data[:,1]\n",
    "phi=data[:,2]\n",
    "print(len(DL),len(theta),len(phi))"
   ]
  },
  {
   "cell_type": "code",
   "execution_count": 3,
   "metadata": {},
   "outputs": [
    {
     "data": {
      "text/plain": [
       "(220000, 220000)"
      ]
     },
     "execution_count": 3,
     "metadata": {},
     "output_type": "execute_result"
    }
   ],
   "source": [
    "#snr at each detector\n",
    "snrH=data[:,5]\n",
    "snrL=data[:,6]\n",
    "snrV=data[:,7]\n",
    "snrK=data[:,8]\n",
    "snrI=data[:,9]\n",
    "#or for networks of 5 and 3 detectors, one can use directly,\n",
    "snrLHVKI=np.sqrt(data[:,5]**2 + data[:,6]**2 + data[:,7]**2 +data[:,8]**2 + data[:,9]**2)  \n",
    "# SNR at LHVKI\n",
    "snrLHV=np.sqrt(data[:,5]**2 + data[:,6]**2 + data[:,7]**2 )  # LHV*\n",
    "snrLHVK = np.sqrt(data[:,5]**2 + data[:,6]**2 + data[:,7]**2 + data[:,8]**2)\n",
    "snrLHVI = np.sqrt(data[:,5]**2 + data[:,6]**2 + data[:,7]**2 + data[:,9]**2)\n",
    "len(snrLHVKI),len(snrLHVK)"
   ]
  },
  {
   "cell_type": "code",
   "execution_count": null,
   "metadata": {},
   "outputs": [],
   "source": []
  },
  {
   "cell_type": "code",
   "execution_count": 4,
   "metadata": {},
   "outputs": [
    {
     "name": "stderr",
     "output_type": "stream",
     "text": [
      "WARNING: ErfaWarning: ERFA function \"dtf2d\" yielded 1 of \"dubious year (Note 6)\" [astropy._erfa.core]\n",
      "WARNING: ErfaWarning: ERFA function \"d2dtf\" yielded 1 of \"dubious year (Note 5)\" [astropy._erfa.core]\n"
     ]
    },
    {
     "name": "stdout",
     "output_type": "stream",
     "text": [
      "***Completed***\r"
     ]
    },
    {
     "data": {
      "text/plain": [
       "220000"
      ]
     },
     "execution_count": 4,
     "metadata": {},
     "output_type": "execute_result"
    }
   ],
   "source": [
    "from astropy.time import Time\n",
    "#import random\n",
    "\n",
    "def homotime(number):\n",
    "    \"\"\"\n",
    "    Defines homogenously distributed time over the time 2022-2023. Number of time elements is essentially the number of\n",
    "    theta,  phi you get.(220000)\n",
    "    Takes time in UTC format and gives out time in UTC format\n",
    "    \"\"\"\n",
    "    time1 = Time('2022-01-01T00:00:00.123456789')\n",
    "    time1 = time1.jd\n",
    "    time2 = Time('2023-01-01T00:00:00.123456789')\n",
    "    time2 = time2.jd\n",
    "    dt = (time2-time1)/number\n",
    "    homotime = []\n",
    "    \n",
    "    for i in range(number):\n",
    "        if i%(int((number)/10))==0:print(int(i*100/(number)), '% completed', end='\\r')\n",
    "        timejd = time1 + i*dt\n",
    "        timeutc = Time(timejd, format='jd')\n",
    "        homotime.append(timeutc.iso)\n",
    "    print('***Completed***', end='\\r')\n",
    "    #print(len(homotime))\n",
    "    return homotime\n",
    "homotime = homotime(len(theta))\n",
    "len(homotime)"
   ]
  },
  {
   "cell_type": "code",
   "execution_count": 5,
   "metadata": {},
   "outputs": [],
   "source": [
    "def ecef_eci(lat, lon, time):\n",
    "    \"\"\"Convert lat long to right ascention and declination\n",
    "    lat - latitude of the place where the tigger is at the zenith in degrees\n",
    "    lon - longitude of the place where the tigger is at the zenith in degrees\n",
    "    time - UTC time in datetime format\n",
    "    \"\"\"\n",
    "    lat = np.deg2rad(lat)\n",
    "    lon = np.deg2rad(lon)\n",
    "    temp = time\n",
    "    year = int(temp[0:4])\n",
    "    month = int(temp[5:7])\n",
    "    day = int(temp[8:10])\n",
    "    hour = int(temp[11:13])\n",
    "    minu = int(temp[14:16])\n",
    "    secs = int(temp[17:19])\n",
    "    #time = Time(time)\n",
    "    time = datetime.datetime(year, month,day,hour,minu,secs)\n",
    "    time0 = datetime.datetime(2000, 1, 1, 12, 0, 0)\n",
    "    time_sid = 18.697374558 + 24.06570982441908*(time - time0).total_seconds()/86400.0\n",
    "    time_sid = time_sid - 24.0*np.floor(time_sid/24.0)\n",
    "    dec = lat\n",
    "    ra = lon + np.pi/24.0*time_sid\n",
    "    dec = np.rad2deg(dec)\n",
    "    ra = np.rad2deg(ra)\n",
    "    return ra,dec\n",
    "\n",
    "\n",
    "def eci_ecef(ra, dec, time):\n",
    "    \"\"\"Convert ra dec to lattitude and longitude\n",
    "    ra - right ascention of the body in radians\n",
    "    dec - declination of the body in radians\n",
    "    time - UTC time in datetime format\n",
    "    \"\"\"\n",
    "#     ra = np.deg2rad(ra)\n",
    "#     dec = np.deg2rad(dec)\n",
    "    temp = time\n",
    "    year = int(temp[0:4])\n",
    "    month = int(temp[5:7])\n",
    "    day = int(temp[8:10])\n",
    "    hour = int(temp[11:13])\n",
    "    minu = int(temp[14:16])\n",
    "    secs = int(temp[17:19])\n",
    "    #time = Time(time)\n",
    "    time = datetime.datetime(year, month,day,hour,minu,secs)\n",
    "    time0 = datetime.datetime(2000, 1, 1, 12, 0, 0)\n",
    "    time_sid = 18.697374558 + 24.06570982441908*(time - time0).total_seconds()/86400.0\n",
    "    time_sid = time_sid - 24.0*np.floor(time_sid/24.0)\n",
    "    lon = (ra - 2*np.pi/24.0*time_sid)\n",
    "    lat = dec\n",
    "#     lon = np.rad2deg(lon)\n",
    "#     lat = np.rad2deg(lat)\n",
    "    return lat, lon\n",
    "\n",
    "def is_saa(lat, longi, time):\n",
    "    \"\"\"Return whether the satellite is in South Atlantic Anamoly or not.\n",
    "    Hard bounds used from the data of RXTE and assumed that the SAA region is rectangular below the inclination of RXTE.\n",
    "    \n",
    "    ra - right ascention of the body in degrees\n",
    "    dec - declination of the body in degrees\n",
    "    time - UTC time in datetime format\n",
    "    \"\"\"\n",
    "    # lat, longi = radec2latlong(ra, dec, time)\n",
    "    #lat, longi = eci_ecef(ra, dec, time)\n",
    "    lat = np.rad2deg(lat)\n",
    "    longi = np.rad2deg(longi)\n",
    "    if -23< lat <= -7 and -90<=longi<=-10:\n",
    "        return True\n",
    "    \n",
    "#     if -90<=longi<=-10:\n",
    "#         y = 7*longi/80 + 23/8\n",
    "#         if lat < y:\n",
    "#             return True\n",
    "    if -100<=longi<=-35:\n",
    "        y=14*longi/65+189/13\n",
    "        if lat<=y:\n",
    "            return True\n",
    "    \n",
    "    if -35<longi<-10:\n",
    "        y=-14/25*longi-63/5\n",
    "        if lat<y:\n",
    "            return True\n",
    "    \n",
    "    \n",
    "    if -10<=longi<=40:\n",
    "        z = -9*longi/25 -43/5\n",
    "        if lat<z: \n",
    "            return True\n",
    "\t\n",
    "\n",
    "    if -50<= lat <=-23 and -90<=longi<=40:\n",
    "        return True\n",
    "    else: return False \n",
    "\n",
    "def getxyz(theta,phi,n):\n",
    "    if n==1:\n",
    "        #lat, long\n",
    "        theta = np.pi/2 - theta\n",
    "    x=np.sin(theta)*np.cos(phi)\n",
    "    y=np.sin(theta)*np.sin(phi)\n",
    "    z=np.cos(theta)\n",
    "    return x,y,z\n",
    "def getnorm(vec):\n",
    "    norm = np.linalg.norm(vec)\n",
    "    #print (norm)\n",
    "    return vec/norm"
   ]
  },
  {
   "cell_type": "code",
   "execution_count": 6,
   "metadata": {},
   "outputs": [],
   "source": [
    "line0 = 'ASTROSAT' #Daksha\n",
    "line1 = '1 40930U 15052A   22302.17850942  .00000772  00000-0  19439-4 0  9990'\n",
    "line2 = '2 40930   5.9975   0.5159 0009292 339.1937  20.7998 14.76165238112787'\n",
    "line3 = '2 40930   5.9975   0.5159 0009292 339.1937 200.7998 14.76165238112787'\n",
    "\n",
    "# line0 = 'SWIFT'#BAT\n",
    "# line1 = '1 28485U 04047A   22302.18405080  .00001301  00000-0  60140-4 0  9997'\n",
    "# line2 = '2 28485  20.5572 277.8742 0011565 130.4507 229.6936 15.03911323708409'\n",
    "# line0 = 'FGRST (GLAST)'#Fermi\n",
    "# line1 = '1 33053U 08029A   22100.45970249  .00000511  00000-0  12538-4 0  9998'\n",
    "# line2 = '2 33053  25.5819 140.4060 0012690 120.1881 239.9912 15.11069703542313'\n",
    "astrosat1 = ephem.readtle(line0,line1,line2)\n",
    "astrosat2 = ephem.readtle(line0,line1,line3)\n",
    "\n",
    "sublat1 = []\n",
    "sublong1 = []\n",
    "sublat2 = []\n",
    "sublong2 = []\n",
    "for i in range(len(homotime)):\n",
    "    astrosat1.compute(homotime[i])\n",
    "    astrosat2.compute(homotime[i])\n",
    "    sublat1.append(astrosat1.sublat)#sublat in radians\n",
    "    sublong1.append(astrosat1.sublong)#sublong in radian\n",
    "    sublat2.append(astrosat2.sublat)#sublat in radians\n",
    "    sublong2.append(astrosat2.sublong)#sublong in radian\n",
    "    \n",
    "#len(sublong1)"
   ]
  },
  {
   "cell_type": "code",
   "execution_count": 7,
   "metadata": {},
   "outputs": [
    {
     "data": {
      "text/plain": [
       "(-31.305171438040038, 148.4712097623955)"
      ]
     },
     "execution_count": 7,
     "metadata": {},
     "output_type": "execute_result"
    }
   ],
   "source": [
    "sublat1[123], sublat2[123]\n",
    "np.rad2deg(sublong1[123]), np.rad2deg(sublong2[123])"
   ]
  },
  {
   "cell_type": "code",
   "execution_count": 8,
   "metadata": {},
   "outputs": [],
   "source": [
    "luminosource = []\n",
    "lumino = []\n",
    "def randomlumino(number):\n",
    "    \"\"\"\n",
    "    Returns 'number' of Luminosity values between the given caps\n",
    "    \"\"\"\n",
    "   \n",
    "    lummax = -6\n",
    "    lummin = -7\n",
    "    factor = 10**6\n",
    "    for i in range(number):\n",
    "        #case1\n",
    "        luminosource.append(10**(random.randint(lummin*factor,lummax*factor)/factor))\n",
    "        lumino.append(luminosource[i]*(200**2)/((DL[i])**2)) \n",
    "#The nominal flux of a source is between 10^-6 and 10^-7 ergs/cm2/sec IF the source is at 200 Mpc at any other distance, you scale by d^2/D^2\n",
    "\n",
    "    #df = pd.DataFrame(data=luminosource)\n",
    "    #df['1'] = lumino\n",
    "    #df.to_csv('/Users/jinaypatel/Desktop/Daksha/output.csv', sep=',', encoding='utf-8')\n",
    "    return lumino\n",
    "    \n",
    "lumino = randomlumino(len(homotime))\n",
    "# len(homotime)\n",
    "# print(lumino)\n",
    "\n",
    "def is_visible(time,latsat,longsat, lattrig, longtrig, satephem):\n",
    "    satephem.compute(time)\n",
    "    theta = 2*np.arcsin(6400000/(6400000+satephem.elevation))\n",
    "    xsat = np.cos(longsat)*np.sin(np.pi/2 - latsat)\n",
    "    ysat = np.sin(longsat)*np.sin(np.pi/2 - latsat)\n",
    "    zsat = np.cos(np.pi/2 - latsat)\n",
    "    satvec = (xsat,ysat,zsat)\n",
    "    xtrig = np.cos(longtrig)*np.sin(np.pi/2 - lattrig)\n",
    "    ytrig = np.sin(longtrig)*np.sin(np.pi/2 - lattrig)\n",
    "    ztrig = np.cos(np.pi/2 - lattrig)\n",
    "    trigvec = (xtrig,ytrig,ztrig)\n",
    "    \n",
    "    anglebetween = np.arccos(np.dot(satvec,trigvec))\n",
    "    omegatrig = 2*np.pi*(1- np.cos(np.pi-anglebetween))\n",
    "    omegashadow = 2*np.pi*(1- np.cos((theta/2)))\n",
    "#     omegashadow = 2*np.pi*(1-np.cos(np.deg2rad(180-38.7394)))\n",
    "    if omegashadow>omegatrig:\n",
    "        return False\n",
    "    else:\n",
    "        return True\n",
    "# plt.hist(np.log10(lumino), bins=100)\n",
    "#plt.hist(lumino, bins=500)\n"
   ]
  },
  {
   "cell_type": "code",
   "execution_count": 9,
   "metadata": {},
   "outputs": [],
   "source": [
    "sensfile = np.loadtxt('sensitivity_20det.csv', delimiter=',',skiprows=1)"
   ]
  },
  {
   "cell_type": "code",
   "execution_count": 10,
   "metadata": {},
   "outputs": [],
   "source": [
    "thetatransarray = []\n",
    "phitransarray = []\n",
    "def transform(astrosat):\n",
    "    for i in range(len(theta)):\n",
    "        #if i%10000==0:\n",
    "            #print(i, end=' ')\n",
    "        astrosat.compute(homotime[i])\n",
    "        satvecold = getnorm(getxyz(astrosat.sublat,astrosat.sublong,1))\n",
    "        tplus = homotime[i][0:17]+(str(int(homotime[i][17:19])+1)) + homotime[i][19:23]\n",
    "        astrosat.compute(tplus)\n",
    "        satvecplus = getnorm(getxyz(astrosat.sublat,astrosat.sublong,1))\n",
    "\n",
    "        zaxis = getnorm(satvecold)\n",
    "        xaxistemp = getnorm([satvecplus[0]-satvecold[0],satvecplus[1]-satvecold[1],satvecplus[2]-satvecold[2]])\n",
    "        yaxis = getnorm(np.cross(zaxis,xaxistemp))\n",
    "        xaxis = getnorm(np.cross(yaxis,zaxis))\n",
    "\n",
    "        xtrig,ytrig,ztrig = getxyz(theta[i],phi[i],0)\n",
    "        trigvec = getnorm([xtrig,ytrig,ztrig])\n",
    "\n",
    "        thetatrans = np.arccos(np.dot(trigvec,zaxis))\n",
    "        yprojtrig = np.linalg.norm(trigvec)*np.dot(trigvec,yaxis) #np.dot(trigvec,yaxis) gives the angle cos of angle between trigvec and yaxis\n",
    "        xprojtrig = np.linalg.norm(trigvec)*np.dot(trigvec,xaxis)\n",
    "        phitrans = np.arctan2(yprojtrig, xprojtrig)\n",
    "        thetatransarray.append(thetatrans)\n",
    "        phitransarray.append(phitrans)\n",
    "    return thetatransarray,phitransarray\n",
    "# phitrans and thetatrans are the phi and theta of source w.r.t the satellite\n",
    "theta1,phi1 = transform(astrosat1)\n",
    "theta2,phi2 = transform(astrosat2)\n"
   ]
  },
  {
   "cell_type": "code",
   "execution_count": 11,
   "metadata": {},
   "outputs": [],
   "source": [
    "sensitivitydata1 = []\n",
    "sensitivitydata2 = []\n",
    "sensfilethetaphi = []\n",
    "for i in range(len(sensfile)):\n",
    "    sensfilethetaphi.append((sensfile[i][0], sensfile[i][1])) #2-D list of theta and phi of sensitivity w.r.t daksha\n",
    "    "
   ]
  },
  {
   "cell_type": "code",
   "execution_count": 12,
   "metadata": {},
   "outputs": [
    {
     "name": "stdout",
     "output_type": "stream",
     "text": [
      "99 % Completed\r"
     ]
    }
   ],
   "source": [
    "for j in range(len(theta)):\n",
    "    if j%100==0:\n",
    "        print(int(j*100/len(theta)),'% Completed', end='\\r')\n",
    "    vectrig = [theta1[j],phi1[j]]\n",
    "    nearest = sensfilethetaphi[spatial.KDTree(sensfilethetaphi).query(vectrig)[1]]\n",
    "    for i in range(len(sensfilethetaphi)):\n",
    "        if sensfilethetaphi[i][0] == nearest[0]:\n",
    "            if sensfilethetaphi[i][1]==nearest[1]:\n",
    "                index=i\n",
    "    sensitivitydata1.append(sensfile[index][3])\n",
    "    \n",
    "for j in range(len(theta)):\n",
    "    if j%100==0:\n",
    "        print(int(j*100/len(theta)),'% Completed', end='\\r')\n",
    "    vectrig = [theta2[j],phi2[j]]\n",
    "    nearest = sensfilethetaphi[spatial.KDTree(sensfilethetaphi).query(vectrig)[1]]\n",
    "    for i in range(len(sensfilethetaphi)):\n",
    "        if sensfilethetaphi[i][0] == nearest[0]:\n",
    "            if sensfilethetaphi[i][1]==nearest[1]:\n",
    "                index=i\n",
    "    sensitivitydata2.append(sensfile[index][3])"
   ]
  },
  {
   "cell_type": "code",
   "execution_count": 13,
   "metadata": {},
   "outputs": [
    {
     "name": "stdout",
     "output_type": "stream",
     "text": [
      "220000 220000\n"
     ]
    }
   ],
   "source": [
    "print(len(sensitivitydata2),len(sensitivitydata1))"
   ]
  },
  {
   "cell_type": "code",
   "execution_count": 14,
   "metadata": {},
   "outputs": [],
   "source": [
    "for k in range(len(sensitivitydata2)):\n",
    "    if np.isnan(sensitivitydata2[k])==True:\n",
    "        sensitivitydata2[k] = 0\n",
    "        \n",
    "sensdatabackup2 = sensitivitydata2\n",
    "\n",
    "for k in range(len(sensitivitydata1)):\n",
    "    if np.isnan(sensitivitydata1[k])==True:\n",
    "        sensitivitydata1[k] = 0\n",
    "        \n",
    "sensdatabackup1 = sensitivitydata1"
   ]
  },
  {
   "cell_type": "code",
   "execution_count": 147,
   "metadata": {},
   "outputs": [
    {
     "name": "stdout",
     "output_type": "stream",
     "text": [
      "45001 11214\n"
     ]
    }
   ],
   "source": [
    "lumonsatligodaksha = []\n",
    "#phidecsatligodaksha = []\n",
    "#thetadecsatligodaksha = []\n",
    "distsoudecligodaksha = []\n",
    "#sendecligodakshasat1 = []\n",
    "#sendecligodakshasat2 = []\n",
    "lumonsourceligodaksha = []\n",
    "lumonsourceligoedaksha = []\n",
    "lumonsatligoedaksha = []\n",
    "#phidecsatligoedaksha = []\n",
    "#thetadecsatligoedaksha = []\n",
    "distsoudecligoedaksha = []\n",
    "#sendecligoedakshasat1 = []\n",
    "#sendecligoedakshasat2 = []\n",
    "distsourcedetligo = []\n",
    "lumonsatligo = []\n",
    "snr = 6\n",
    "for i in range(len(homotime)):\n",
    "    if lumino[i]>0:\n",
    "        #detected by both daksha satellite and LIGO\n",
    "        if is_saa(sublat1[i],sublong1[i], homotime[i])==False and snrLHV[i]>=snr and sensitivitydata1[i]<=lumino[i] and is_visible(homotime[i],sublat1[i],sublong1[i],np.deg2rad(90.0) - theta1[i],phi1[i], astrosat1)==True:\n",
    "            if is_saa(sublat2[i],sublong2[i], homotime[i])==False and snrLHV[i]>=snr and sensitivitydata2[i]<=lumino[i] and is_visible(homotime[i],sublat2[i],sublong2[i],np.deg2rad(90.0) - theta2[i],phi2[i], astrosat2)==True:\n",
    "                    lumonsatligodaksha.append(lumino[i])\n",
    "                    lumonsourceligodaksha.append(luminosource[i])\n",
    "                    distsoudecligodaksha.append(DL[i])\n",
    "                    #thetadecsatligodaksha.append(theta1[i])\n",
    "                    #phidecsatligodaksha.append(phi1[i])\n",
    "                    #sendecligodakshasat1.append(sensitivitydata1[i])\n",
    "                    #sendecligodakshasat2.append(sensitivitydata2[i])\n",
    "                    \n",
    "        if snrLHV[i]>=snr:\n",
    "            distsourcedetligo.append(DL[i])\n",
    "            lumonsatligo.append(lumino[i])\n",
    "            \n",
    "#df = pd.DataFrame(data=lumonsatligodaksha)\n",
    "#df['Luminosity of source'] = lumonsourceligodaksha\n",
    "#df['Theta'] = thetadecsatligodaksha\n",
    "#df['Phi'] = phidecsatligodaksha\n",
    "#df['Distance'] = distsoudecligodaksha\n",
    "#df['Sensitivity of Satellite 1'] = sendecligodakshasat1\n",
    "#df['Sensitivity of Satellite 2'] = sendecligodakshasat2\n",
    "#df.to_csv('/Users/jinaypatel/Desktop/Daksha/LHV_DakshaplusLIGO.csv', sep=',', encoding='utf-8')\n",
    "for j in range(len(homotime)): \n",
    "    if lumino[j]>0:\n",
    "        #detected by either one of the daksha satellite and LIGO\n",
    "        if (is_saa(sublat1[j],sublong1[j], homotime[j])==False and snrLHV[j]>=snr and sensitivitydata1[j]<=lumino[j] and is_visible(homotime[j],sublat1[i],sublong1[j],np.deg2rad(90.0) - theta1[j],phi1[j], astrosat1)==True) or (is_saa(sublat2[j],sublong2[j], homotime[j])==False and snrLHV[j]>=snr and sensitivitydata2[j]<=lumino[j] and is_visible(homotime[j],sublat2[i],sublong2[j],np.deg2rad(90.0) - theta2[j],phi2[j], astrosat2)==True):\n",
    "            lumonsatligoedaksha.append(lumino[j])\n",
    "            lumonsourceligoedaksha.append(luminosource[j])\n",
    "            distsoudecligoedaksha.append(DL[j])\n",
    "            #thetadecsatligoedaksha.append(theta1[j])\n",
    "            #phidecsatligoedaksha.append(phi1[j])\n",
    "            #sendecligoedakshasat1.append(sensitivitydata1[j])\n",
    "            #sendecligoedakshasat2.append(sensitivitydata2[j])\n",
    "       # if is_saa(sublat2[j],sublong2[j], homotime[j])==False and snrLHVKI[j]>=snr and sensitivitydata2[j]<=lumino[j] and is_visible(homotime[j],sublat2[i],sublong2[j],np.deg2rad(90.0) - theta2[j],phi2[j], astrosat2)==True:\n",
    "        \"\"\"\"    lumonsatligoedaksha.append(lumino[j])\n",
    "            lumonsourceligoedaksha.append(luminosource[j])\n",
    "            thetadecsatligoedaksha.append(theta1[j])\n",
    "            phidecsatligoedaksha.append(phi1[j])\n",
    "            distsoudecligoedaksha.append(DL[j])\n",
    "            sendecligoedakshasat1.append(sensitivitydata1[j])\n",
    "            sendecligoedakshasat2.append(sensitivitydata2[j])\"\"\"\n",
    "\n",
    "\n",
    "#print(len( lumonsatligoedaksha),len(lumonsatligodaksha))\n",
    "print(len(distsourcedetligo),len(distsoudecligodaksha))\n",
    "#df = pd.DataFrame(data=lumonsatligodaksha)\n",
    "#df['Luminosity of Source'] = lumonsourceligodaksha\n",
    "#df['Theta'] = thetadecsatligodaksha\n",
    "#df['Phi'] = phidecsatligodaksha\n",
    "#df['Distance'] = distsoudecligodaksha\n",
    "#df['Sensitivity of Satellite 1'] = sendecligodakshasat1\n",
    "#df['Sensitivity of Satellite 2'] = sendecligodakshasat2\n",
    "#df.to_csv('/Users/jinaypatel/Desktop/Daksha/LHV_Dakshaonly.csv', sep=',', encoding='utf-8')"
   ]
  },
  {
   "cell_type": "code",
   "execution_count": 148,
   "metadata": {},
   "outputs": [
    {
     "name": "stdout",
     "output_type": "stream",
     "text": [
      "0.24919446234528123\n"
     ]
    },
    {
     "data": {
      "image/png": "[encoded data removed]",
      "text/plain": [
       "<Figure size 432x288 with 1 Axes>"
      ]
     },
     "metadata": {},
     "output_type": "display_data"
    }
   ],
   "source": [
    "plt.hist([distsoudecligodaksha,distsourcedetligo],bins=500,label=['distance of sources dectected both ligo and daksha','distance of sources'])\n",
    "plt.title('Histogram', fontsize=16)\n",
    "plt.xlabel('Distance', fontsize=14)\n",
    "plt.legend()\n",
    "plt.ylim(0,250)\n",
    "plt.text(100, 180, 'Fraction=0.2589', style='italic',\n",
    "        bbox={'facecolor':'lightblue', 'alpha':0.5, 'pad':10})\n",
    "print(len(distsoudecligodaksha)/len(distsourcedetligo))"
   ]
  },
  {
   "cell_type": "code",
   "execution_count": 155,
   "metadata": {
    "scrolled": true
   },
   "outputs": [
    {
     "name": "stdout",
     "output_type": "stream",
     "text": [
      "0.7254061020866203\n"
     ]
    },
    {
     "data": {
      "image/png": "[encoded data removed]",
      "text/plain": [
       "<Figure size 432x288 with 1 Axes>"
      ]
     },
     "metadata": {},
     "output_type": "display_data"
    }
   ],
   "source": [
    "plt.hist([distsoudecligoedaksha,distsourcedetligo],bins=500,label=['distance source dectected ligo and either daksha','distance of sources'])\n",
    "plt.title('Histogram', fontsize=16)\n",
    "plt.xlabel('Distance', fontsize=14)\n",
    "plt.legend()\n",
    "plt.ylim(0,200)\n",
    "plt.text(100, 140, 'Fraction=0.725', style='italic',\n",
    "        bbox={'facecolor':'lightblue', 'alpha':0.5, 'pad':10})\n",
    "print(len(distsoudecligoedaksha)/len(distsourcedetligo))"
   ]
  },
  {
   "cell_type": "code",
   "execution_count": 156,
   "metadata": {},
   "outputs": [
    {
     "name": "stdout",
     "output_type": "stream",
     "text": [
      "5.450212161820026e-07 8.926570577108464e-08\n"
     ]
    },
    {
     "data": {
      "image/png": "[encoded data removed]",
      "text/plain": [
       "<Figure size 432x288 with 1 Axes>"
      ]
     },
     "metadata": {},
     "output_type": "display_data"
    }
   ],
   "source": [
    "plt.hist([lumonsatligodaksha,lumonsatligo],bins=500,label=['distance source dectected ligo and either daksha','distance of sources'])\n",
    "plt.title('Histogram', fontsize=16)\n",
    "plt.xlabel('luminosity of sources dectected by ligo and both daksha', fontsize=14)\n",
    "print(lumonsatligodaksha[2],lumonsatligo[2])"
   ]
  },
  {
   "cell_type": "code",
   "execution_count": 158,
   "metadata": {},
   "outputs": [
    {
     "data": {
      "text/plain": [
       "(0, 1e-06)"
      ]
     },
     "execution_count": 158,
     "metadata": {},
     "output_type": "execute_result"
    },
    {
     "data": {
      "image/png": "[encoded data removed]",
      "text/plain": [
       "<Figure size 432x288 with 1 Axes>"
      ]
     },
     "metadata": {},
     "output_type": "display_data"
    }
   ],
   "source": [
    "plt.hist([lumonsatligoedaksha,lumonsatligo],bins=500,label=['luminosity of sources detected','luminosity of sources'])\n",
    "plt.title('Histogram', fontsize=16)\n",
    "plt.legend()\n",
    "plt.xlabel('luminosity of sources dectected by ligo and either of daksha', fontsize=14)\n",
    "plt.xlim(0,0.00000100)"
   ]
  },
  {
   "cell_type": "code",
   "execution_count": null,
   "metadata": {},
   "outputs": [],
   "source": []
  },
  {
   "cell_type": "code",
   "execution_count": null,
   "metadata": {},
   "outputs": [],
   "source": []
  },
  {
   "cell_type": "code",
   "execution_count": null,
   "metadata": {},
   "outputs": [],
   "source": []
  }
 ],
 "metadata": {
  "kernelspec": {
   "display_name": "Python 3",
   "language": "python",
   "name": "python3"
  },
  "language_info": {
   "codemirror_mode": {
    "name": "ipython",
    "version": 3
   },
   "file_extension": ".py",
   "mimetype": "text/x-python",
   "name": "python",
   "nbconvert_exporter": "python",
   "pygments_lexer": "ipython3",
   "version": "3.6.5"
  }
 },
 "nbformat": 4,
 "nbformat_minor": 2
}
