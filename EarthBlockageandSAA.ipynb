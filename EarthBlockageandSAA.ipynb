{
 "cells": [
  {
   "cell_type": "code",
   "execution_count": 6,
   "metadata": {},
   "outputs": [
    {
     "name": "stdout",
     "output_type": "stream",
     "text": [
      "Using matplotlib backend: MacOSX\n"
     ]
    }
   ],
   "source": [
    "import scipy.io\n",
    "import numpy as np\n",
    "import datetime \n",
    "import ephem\n",
    "import random\n",
    "from scipy import spatial\n",
    "import matplotlib.pyplot as plt\n",
    "%matplotlib\n",
    "from astropy.table import Table\n",
    "from astropy.coordinates import EarthLocation\n",
    "import astropy\n",
    "from astropy.time import Time\n",
    "import astropy.units as u\n",
    "import numpy as np"
   ]
  },
  {
   "cell_type": "code",
   "execution_count": 22,
   "metadata": {},
   "outputs": [],
   "source": [
    "def is_saa(lat, longi):  # takes input in radians\n",
    "    \"\"\"Return whether the satellite is in South Atlantic Anamoly or not.\n",
    "    Hard bounds used from the data of RXTE and assumed that the SAA region is rectangular below the inclination of RXTE.\n",
    "    \n",
    "    ra - right ascention of the body in degrees\n",
    "    dec - declination of the body in degrees\n",
    "    time - UTC time in datetime format\n",
    "    \"\"\"\n",
    "    # lat, longi = radec2latlong(ra, dec, time)\n",
    "    #lat, longi = eci_ecef(ra, dec, time)\n",
    "    lat = np.rad2deg(lat)\n",
    "    longi = np.rad2deg(longi)\n",
    "    if -23< lat <= -7 and -90<=longi<=-10:\n",
    "        return True\n",
    "    \n",
    "#     if -90<=longi<=-10:\n",
    "#         y = 7*longi/80 + 23/8\n",
    "#         if lat < y:\n",
    "#             return True\n",
    "    if -100<=longi<=-35:\n",
    "        y=14*longi/65+189/13\n",
    "        if lat<=y:\n",
    "            return True\n",
    "    \n",
    "    if -35<longi<-10:\n",
    "        y=-14/25*longi-63/5\n",
    "        if lat<y:\n",
    "            return True\n",
    "    \n",
    "    \n",
    "    if -10<=longi<=40:\n",
    "        z = -9*longi/25 -43/5\n",
    "        if lat<z: \n",
    "            return True\n",
    "\t\n",
    "\n",
    "    if -50<= lat <=-23 and -90<=longi<=40:\n",
    "        return True\n",
    "    else: return False "
   ]
  },
  {
   "cell_type": "code",
   "execution_count": 2,
   "metadata": {},
   "outputs": [],
   "source": [
    "def is_visible(time,latsat,longsat, lattrig, longtrig, satephem):     #satephem is astrosat1 and astrosat2 \n",
    "    satephem.compute(time)\n",
    "    theta = 2*np.arcsin(6400000/(6400000+satephem.elevation))\n",
    "    xsat = np.cos(longsat)*np.sin(np.pi/2 - latsat)\n",
    "    ysat = np.sin(longsat)*np.sin(np.pi/2 - latsat)\n",
    "    zsat = np.cos(np.pi/2 - latsat)\n",
    "    satvec = (xsat,ysat,zsat)\n",
    "    xtrig = np.cos(longtrig)*np.sin(np.pi/2 - lattrig)\n",
    "    ytrig = np.sin(longtrig)*np.sin(np.pi/2 - lattrig)\n",
    "    ztrig = np.cos(np.pi/2 - lattrig)\n",
    "    trigvec = (xtrig,ytrig,ztrig)\n",
    "    \n",
    "    anglebetween = np.arccos(np.dot(satvec,trigvec))\n",
    "    omegatrig = 2*np.pi*(1- np.cos(np.pi-anglebetween))\n",
    "    omegashadow = 2*np.pi*(1- np.cos((theta/2)))\n",
    "#     omegashadow = 2*np.pi*(1-np.cos(np.deg2rad(180-38.7394)))\n",
    "    if omegashadow>omegatrig:\n",
    "        return False\n",
    "    else:\n",
    "        return True"
   ]
  },
  {
   "cell_type": "code",
   "execution_count": 30,
   "metadata": {},
   "outputs": [],
   "source": [
    "#is_saa(-0.5,-0.70)      #Lat = -30 , long = -40\n",
    "#is_saa(-0.26,-0.70)   #Lat = -15 , long = -40\n",
    "#is_saa(-0.5,-0.5)    #Lat = -30 , long = -30\n",
    "#is_saa(-0.26,-1.92)   #Lat = -15 , long = -110"
   ]
  },
  {
   "cell_type": "code",
   "execution_count": 11,
   "metadata": {},
   "outputs": [],
   "source": [
    "line0 = 'ASTROSAT' #Daksha\n",
    "line1 = '1 40930U 15052A   22302.17850942  .00000772  00000-0  19439-4 0  9990'\n",
    "line2 = '2 40930   5.9975   0.5159 0009292 339.1937  20.7998 14.76165238112787'\n",
    "line3 = '2 40930   5.9975   0.5159 0009292 339.1937 200.7998 14.76165238112787'\n",
    "\n",
    "# line0 = 'SWIFT'#BAT\n",
    "# line1 = '1 28485U 04047A   22302.18405080  .00001301  00000-0  60140-4 0  9997'\n",
    "# line2 = '2 28485  20.5572 277.8742 0011565 130.4507 229.6936 15.03911323708409'\n",
    "# line0 = 'FGRST (GLAST)'#Fermi\n",
    "# line1 = '1 33053U 08029A   22100.45970249  .00000511  00000-0  12538-4 0  9998'\n",
    "# line2 = '2 33053  25.5819 140.4060 0012690 120.1881 239.9912 15.11069703542313'\n",
    "astrosat1 = ephem.readtle(line0,line1,line2)\n",
    "astrosat2 = ephem.readtle(line0,line1,line3)\n",
    "\n"
   ]
  },
  {
   "cell_type": "code",
   "execution_count": 35,
   "metadata": {},
   "outputs": [
    {
     "data": {
      "text/plain": [
       "False"
      ]
     },
     "execution_count": 35,
     "metadata": {},
     "output_type": "execute_result"
    }
   ],
   "source": [
    "is_visible('2022-01-01 00:03:13.207',0.022602884098887444,0.8306431174278259+np.pi,0.022602884098887444,0.8306431174278259,astrosat1)"
   ]
  },
  {
   "cell_type": "code",
   "execution_count": 7,
   "metadata": {},
   "outputs": [
    {
     "data": {
      "text/plain": [
       "1.2948846169956605"
      ]
     },
     "execution_count": 7,
     "metadata": {},
     "output_type": "execute_result"
    }
   ],
   "source": [
    "#0.0226*180/np.pi"
   ]
  },
  {
   "cell_type": "code",
   "execution_count": 8,
   "metadata": {},
   "outputs": [
    {
     "data": {
      "text/plain": [
       "47.59216629474671"
      ]
     },
     "execution_count": 8,
     "metadata": {},
     "output_type": "execute_result"
    }
   ],
   "source": [
    "#0.83064*180/np.pi"
   ]
  },
  {
   "cell_type": "code",
   "execution_count": null,
   "metadata": {},
   "outputs": [],
   "source": []
  }
 ],
 "metadata": {
  "kernelspec": {
   "display_name": "Python 3",
   "language": "python",
   "name": "python3"
  },
  "language_info": {
   "codemirror_mode": {
    "name": "ipython",
    "version": 3
   },
   "file_extension": ".py",
   "mimetype": "text/x-python",
   "name": "python",
   "nbconvert_exporter": "python",
   "pygments_lexer": "ipython3",
   "version": "3.6.5"
  }
 },
 "nbformat": 4,
 "nbformat_minor": 2
}
